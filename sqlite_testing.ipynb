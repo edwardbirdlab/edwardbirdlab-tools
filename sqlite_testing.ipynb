{
 "cells": [
  {
   "cell_type": "code",
   "id": "initial_id",
   "metadata": {
    "collapsed": true,
    "ExecuteTime": {
     "end_time": "2025-04-17T00:31:12.029955Z",
     "start_time": "2025-04-17T00:31:12.027630Z"
    }
   },
   "source": [
    "import sqlite3\n",
    "import pandas as pd\n",
    "from Bio import SeqIO\n",
    "import os\n",
    "import random\n",
    "import json\n",
    "import numpy as np\n",
    "import re\n",
    "\n",
    "from pandocfilters import Table"
   ],
   "outputs": [],
   "execution_count": 103
  },
  {
   "metadata": {
    "ExecuteTime": {
     "end_time": "2025-04-16T21:04:29.124535Z",
     "start_time": "2025-04-16T21:04:29.118591Z"
    }
   },
   "cell_type": "code",
   "source": [
    "# Delete the database file if it exists\n",
    "if os.path.exists(\"Testing.db\"):\n",
    "    os.remove(\"Testing.db\")\n",
    "    print(\"Deleted Testing.db\")\n",
    "else:\n",
    "    print(\"Testing.db does not exist\")"
   ],
   "id": "2eb8450997558ba8",
   "outputs": [
    {
     "name": "stdout",
     "output_type": "stream",
     "text": [
      "Deleted Testing.db\n"
     ]
    }
   ],
   "execution_count": 2
  },
  {
   "metadata": {
    "ExecuteTime": {
     "end_time": "2025-04-16T21:04:29.180928Z",
     "start_time": "2025-04-16T21:04:29.177249Z"
    }
   },
   "cell_type": "code",
   "source": [
    "# Import Sheet\n",
    "df = pd.read_csv(\"test_data/Testing_SQLite/samplesheet_nexus.csv\")\n",
    "df.rename(columns={\"path\": \"read1\"}, inplace=True)"
   ],
   "id": "decdaab2787e8bda",
   "outputs": [],
   "execution_count": 3
  },
  {
   "metadata": {
    "ExecuteTime": {
     "end_time": "2025-04-16T21:04:29.191972Z",
     "start_time": "2025-04-16T21:04:29.187729Z"
    }
   },
   "cell_type": "code",
   "source": "df.head()",
   "id": "f547df14d95bbec0",
   "outputs": [
    {
     "data": {
      "text/plain": [
       "        sample                                              read1  \\\n",
       "0  NIFP2402605  /90daydata/nece/bird/NECE_NEXUS_2025/Data/NIFP...   \n",
       "1  NIFP2402606  /90daydata/nece/bird/NECE_NEXUS_2025/Data/NIFP...   \n",
       "2  NIFP2402607  /90daydata/nece/bird/NECE_NEXUS_2025/Data/NIFP...   \n",
       "3  NIFP2402608  /90daydata/nece/bird/NECE_NEXUS_2025/Data/NIFP...   \n",
       "4  NIFP2402609  /90daydata/nece/bird/NECE_NEXUS_2025/Data/NIFP...   \n",
       "\n",
       "                                    reference_genome sequencing_type  \n",
       "0  /90daydata/nece/bird/NECE_NEXUS_2025/Data/GCF_...    META_ONT_DNA  \n",
       "1  /90daydata/nece/bird/NECE_NEXUS_2025/Data/GCF_...    META_ONT_DNA  \n",
       "2  /90daydata/nece/bird/NECE_NEXUS_2025/Data/GCF_...    META_ONT_DNA  \n",
       "3  /90daydata/nece/bird/NECE_NEXUS_2025/Data/GCF_...    META_ONT_DNA  \n",
       "4  /90daydata/nece/bird/NECE_NEXUS_2025/Data/GCF_...    META_ONT_DNA  "
      ],
      "text/html": [
       "<div>\n",
       "<style scoped>\n",
       "    .dataframe tbody tr th:only-of-type {\n",
       "        vertical-align: middle;\n",
       "    }\n",
       "\n",
       "    .dataframe tbody tr th {\n",
       "        vertical-align: top;\n",
       "    }\n",
       "\n",
       "    .dataframe thead th {\n",
       "        text-align: right;\n",
       "    }\n",
       "</style>\n",
       "<table border=\"1\" class=\"dataframe\">\n",
       "  <thead>\n",
       "    <tr style=\"text-align: right;\">\n",
       "      <th></th>\n",
       "      <th>sample</th>\n",
       "      <th>read1</th>\n",
       "      <th>reference_genome</th>\n",
       "      <th>sequencing_type</th>\n",
       "    </tr>\n",
       "  </thead>\n",
       "  <tbody>\n",
       "    <tr>\n",
       "      <th>0</th>\n",
       "      <td>NIFP2402605</td>\n",
       "      <td>/90daydata/nece/bird/NECE_NEXUS_2025/Data/NIFP...</td>\n",
       "      <td>/90daydata/nece/bird/NECE_NEXUS_2025/Data/GCF_...</td>\n",
       "      <td>META_ONT_DNA</td>\n",
       "    </tr>\n",
       "    <tr>\n",
       "      <th>1</th>\n",
       "      <td>NIFP2402606</td>\n",
       "      <td>/90daydata/nece/bird/NECE_NEXUS_2025/Data/NIFP...</td>\n",
       "      <td>/90daydata/nece/bird/NECE_NEXUS_2025/Data/GCF_...</td>\n",
       "      <td>META_ONT_DNA</td>\n",
       "    </tr>\n",
       "    <tr>\n",
       "      <th>2</th>\n",
       "      <td>NIFP2402607</td>\n",
       "      <td>/90daydata/nece/bird/NECE_NEXUS_2025/Data/NIFP...</td>\n",
       "      <td>/90daydata/nece/bird/NECE_NEXUS_2025/Data/GCF_...</td>\n",
       "      <td>META_ONT_DNA</td>\n",
       "    </tr>\n",
       "    <tr>\n",
       "      <th>3</th>\n",
       "      <td>NIFP2402608</td>\n",
       "      <td>/90daydata/nece/bird/NECE_NEXUS_2025/Data/NIFP...</td>\n",
       "      <td>/90daydata/nece/bird/NECE_NEXUS_2025/Data/GCF_...</td>\n",
       "      <td>META_ONT_DNA</td>\n",
       "    </tr>\n",
       "    <tr>\n",
       "      <th>4</th>\n",
       "      <td>NIFP2402609</td>\n",
       "      <td>/90daydata/nece/bird/NECE_NEXUS_2025/Data/NIFP...</td>\n",
       "      <td>/90daydata/nece/bird/NECE_NEXUS_2025/Data/GCF_...</td>\n",
       "      <td>META_ONT_DNA</td>\n",
       "    </tr>\n",
       "  </tbody>\n",
       "</table>\n",
       "</div>"
      ]
     },
     "execution_count": 4,
     "metadata": {},
     "output_type": "execute_result"
    }
   ],
   "execution_count": 4
  },
  {
   "metadata": {
    "ExecuteTime": {
     "end_time": "2025-04-16T21:04:29.211327Z",
     "start_time": "2025-04-16T21:04:29.209618Z"
    }
   },
   "cell_type": "code",
   "source": [
    "# Connect to (or create) the SQLite database\n",
    "conn = sqlite3.connect(\"Testing.db\")"
   ],
   "id": "1220b507348a125c",
   "outputs": [],
   "execution_count": 5
  },
  {
   "metadata": {
    "ExecuteTime": {
     "end_time": "2025-04-16T21:04:29.236059Z",
     "start_time": "2025-04-16T21:04:29.232916Z"
    }
   },
   "cell_type": "code",
   "source": [
    "#Creating Metadata table\n",
    "conn.execute(\"\"\"\n",
    "CREATE TABLE IF NOT EXISTS metadata (\n",
    "    sample TEXT,\n",
    "    read1 TEXT,\n",
    "    read2 TEXT,\n",
    "    reference_genome TEXT,\n",
    "    sequencing_type TEXT,\n",
    "    location_name TEXT,\n",
    "    location_coordinates TEXT,\n",
    "    collection_date TEXT,\n",
    "    sequencing_data TEXT,\n",
    "    other_sample_information TEXT,\n",
    "    long_term_storage_r1 TEXT,\n",
    "    long_term_storage_r2 TEXT,\n",
    "    PRIMARY KEY (sample, sequencing_type)\n",
    ");\n",
    "\"\"\")"
   ],
   "id": "8c7a7dd1e78ab6a0",
   "outputs": [
    {
     "data": {
      "text/plain": [
       "<sqlite3.Cursor at 0x14a07b6c0>"
      ]
     },
     "execution_count": 6,
     "metadata": {},
     "output_type": "execute_result"
    }
   ],
   "execution_count": 6
  },
  {
   "metadata": {
    "ExecuteTime": {
     "end_time": "2025-04-16T21:04:29.257261Z",
     "start_time": "2025-04-16T21:04:29.254413Z"
    }
   },
   "cell_type": "code",
   "source": [
    "#Columns that could be in the metadata\n",
    "optional_fields = [\n",
    "    \"read2\",\n",
    "    \"location_name\",\n",
    "    \"location_coordinates\",\n",
    "    \"collection_date\",\n",
    "    \"sequencing_data\",\n",
    "    \"other_sample_information\",\n",
    "    \"long_term_storage_r1\",\n",
    "    \"long_term_storage_r2\"\n",
    "]\n",
    "\n",
    "#Colums that every sample should have\n",
    "required_fields = [\"sample\", \"read1\", \"reference_genome\", \"sequencing_type\"]\n",
    "\n",
    "#Check for required Colums\n",
    "for field in required_fields:\n",
    "    if field not in df.columns:\n",
    "        raise ValueError(f\"Missing required column: {field}\")\n",
    "\n",
    "# Add missing optional columns with None\n",
    "for field in optional_fields:\n",
    "    if field not in df.columns:\n",
    "        df[field] = None"
   ],
   "id": "49ce588a84a50166",
   "outputs": [],
   "execution_count": 7
  },
  {
   "metadata": {
    "ExecuteTime": {
     "end_time": "2025-04-16T21:04:29.278417Z",
     "start_time": "2025-04-16T21:04:29.275147Z"
    }
   },
   "cell_type": "code",
   "source": [
    "# Connect to database\n",
    "cursor = conn.cursor()\n",
    "# Attempt to insert each row individually and throw error if duplicate found\n",
    "try:\n",
    "    for row in df.itertuples(index=False):\n",
    "        cursor.execute(\"\"\"\n",
    "            INSERT INTO metadata (\n",
    "                sample, read1, reference_genome, sequencing_type,\n",
    "                location_name, location_coordinates,\n",
    "                collection_date, sequencing_data, other_sample_information\n",
    "            ) VALUES (?, ?, ?, ?, ?, ?, ?, ?, ?)\n",
    "        \"\"\", (\n",
    "            row.sample,\n",
    "            row.read1,\n",
    "            row.reference_genome,\n",
    "            row.sequencing_type,\n",
    "            row.location_name,\n",
    "            row.location_coordinates,\n",
    "            row.collection_date,\n",
    "            row.sequencing_data,\n",
    "            row.other_sample_information\n",
    "        ))\n",
    "    conn.commit()\n",
    "except sqlite3.IntegrityError as e:\n",
    "    raise RuntimeError(f\"❌ Duplicate entry detected: {e}\")\n",
    "finally:\n",
    "    conn.close()"
   ],
   "id": "30f159d46b3350e9",
   "outputs": [],
   "execution_count": 8
  },
  {
   "metadata": {
    "ExecuteTime": {
     "end_time": "2025-04-16T21:04:29.287422Z",
     "start_time": "2025-04-16T21:04:29.285121Z"
    }
   },
   "cell_type": "code",
   "source": [
    "# Connect to your SQLite database\n",
    "conn = sqlite3.connect(\"Testing.db\")\n",
    "cursor = conn.cursor()"
   ],
   "id": "94929facdc11e7a9",
   "outputs": [],
   "execution_count": 9
  },
  {
   "metadata": {
    "ExecuteTime": {
     "end_time": "2025-04-16T21:04:29.294686Z",
     "start_time": "2025-04-16T21:04:29.292796Z"
    }
   },
   "cell_type": "code",
   "source": [
    "# Query all unique samples\n",
    "cursor.execute(\"SELECT DISTINCT sample FROM metadata;\")\n",
    "rows = cursor.fetchall()\n",
    "\n",
    "# Print the sample names\n",
    "for row in rows:\n",
    "    print(row[0])"
   ],
   "id": "46100f0bded155f7",
   "outputs": [
    {
     "name": "stdout",
     "output_type": "stream",
     "text": [
      "NIFP2402605\n",
      "NIFP2402606\n",
      "NIFP2402607\n",
      "NIFP2402608\n",
      "NIFP2402609\n",
      "NIFP2402610\n",
      "NIFP2402611\n",
      "NIFP2402612\n"
     ]
    }
   ],
   "execution_count": 10
  },
  {
   "metadata": {
    "ExecuteTime": {
     "end_time": "2025-04-16T21:04:29.309205Z",
     "start_time": "2025-04-16T21:04:29.305147Z"
    }
   },
   "cell_type": "code",
   "source": [
    "# Close the connection\n",
    "conn.close()"
   ],
   "id": "f232f0202458d93f",
   "outputs": [],
   "execution_count": 11
  },
  {
   "metadata": {
    "ExecuteTime": {
     "end_time": "2025-04-16T21:04:29.321107Z",
     "start_time": "2025-04-16T21:04:29.319128Z"
    }
   },
   "cell_type": "code",
   "source": [
    "fasta_folder = \"/Users/edwardbird/Documents/GitHub/edwardbirdlab-tools/test_data/Testing_SQLite\"\n",
    "db_path = \"Testing.db\""
   ],
   "id": "618198570c2d9549",
   "outputs": [],
   "execution_count": 12
  },
  {
   "metadata": {
    "ExecuteTime": {
     "end_time": "2025-04-16T21:04:29.324407Z",
     "start_time": "2025-04-16T21:04:29.322707Z"
    }
   },
   "cell_type": "code",
   "source": [
    "# Connect to database\n",
    "conn = sqlite3.connect(db_path)\n",
    "cursor = conn.cursor()"
   ],
   "id": "969669e4b0045cff",
   "outputs": [],
   "execution_count": 13
  },
  {
   "metadata": {
    "ExecuteTime": {
     "end_time": "2025-04-16T21:04:29.336195Z",
     "start_time": "2025-04-16T21:04:29.333160Z"
    }
   },
   "cell_type": "code",
   "source": [
    "#aking a new table for the contigs\n",
    "cursor.execute(\"\"\"\n",
    "CREATE TABLE IF NOT EXISTS contigs (\n",
    "    sample TEXT,\n",
    "    sequencing_type TEXT,\n",
    "    contig_id TEXT,\n",
    "    sequence TEXT,\n",
    "    PRIMARY KEY (sample, sequencing_type, contig_id),\n",
    "    FOREIGN KEY (sample, sequencing_type) REFERENCES metadata(sample, sequencing_type)\n",
    ");\n",
    "\"\"\")"
   ],
   "id": "5d029fd66d4a3974",
   "outputs": [
    {
     "data": {
      "text/plain": [
       "<sqlite3.Cursor at 0x14a138540>"
      ]
     },
     "execution_count": 14,
     "metadata": {},
     "output_type": "execute_result"
    }
   ],
   "execution_count": 14
  },
  {
   "metadata": {
    "ExecuteTime": {
     "end_time": "2025-04-16T21:04:29.344159Z",
     "start_time": "2025-04-16T21:04:29.342393Z"
    }
   },
   "cell_type": "code",
   "source": [
    "# Making a function to get the sequencing type from the metadata we imported already\n",
    "def get_sequencing_type(sample_name):\n",
    "    result = cursor.execute(\"\"\"\n",
    "        SELECT sequencing_type FROM metadata\n",
    "        WHERE sample = ?\n",
    "    \"\"\", (sample_name,)).fetchall()\n",
    "\n",
    "    if len(result) == 1:\n",
    "        return result[0][0]\n",
    "    elif len(result) > 1:\n",
    "        raise ValueError(f\"Multiple sequencing types found for sample {sample_name}\")\n",
    "    else:\n",
    "        raise ValueError(f\"No metadata entry found for sample {sample_name}\")"
   ],
   "id": "16f5cc3ecdb1553a",
   "outputs": [],
   "execution_count": 15
  },
  {
   "metadata": {
    "ExecuteTime": {
     "end_time": "2025-04-16T21:04:30.985411Z",
     "start_time": "2025-04-16T21:04:29.351266Z"
    }
   },
   "cell_type": "code",
   "source": [
    "# Go though fasta files and import them\n",
    "for fname in os.listdir(fasta_folder):\n",
    "    if fname.endswith(\".fasta\") or fname.endswith(\".fa\"):\n",
    "        sample = os.path.splitext(fname)[0].split(\"_\")[0]\n",
    "        try:\n",
    "            sequencing_type = get_sequencing_type(sample)\n",
    "        except ValueError as e:\n",
    "            print(f\"Skipping {fname}: {e}\")\n",
    "            continue\n",
    "\n",
    "        fasta_path = os.path.join(fasta_folder, fname)\n",
    "        # Counter for inserted sequences\n",
    "        inserted_count = 0\n",
    "\n",
    "        for record in SeqIO.parse(fasta_path, \"fasta\"):\n",
    "            contig_id = record.id\n",
    "            sequence = str(record.seq)\n",
    "\n",
    "            try:\n",
    "                cursor.execute(\"\"\"\n",
    "                    INSERT INTO contigs (sample, sequencing_type, contig_id, sequence)\n",
    "                    VALUES (?, ?, ?, ?)\n",
    "                \"\"\", (sample, sequencing_type, contig_id, sequence))\n",
    "                inserted_count += 1\n",
    "            except sqlite3.IntegrityError:\n",
    "                print(f\"Duplicate entry skipped: {sample}, {sequencing_type}, {contig_id}\")\n",
    "\n",
    "        # Print summary for this sample\n",
    "        print(f\"✅ Added {inserted_count} sequences for sample '{sample}' (type: {sequencing_type})\")"
   ],
   "id": "bb90d889d9f531f1",
   "outputs": [
    {
     "name": "stdout",
     "output_type": "stream",
     "text": [
      "✅ Added 19744 sequences for sample 'NIFP2402609' (type: META_ONT_DNA)\n",
      "✅ Added 14230 sequences for sample 'NIFP2402606' (type: META_ONT_DNA)\n",
      "✅ Added 21851 sequences for sample 'NIFP2402607' (type: META_ONT_DNA)\n",
      "✅ Added 60455 sequences for sample 'NIFP2402612' (type: META_ONT_DNA)\n",
      "✅ Added 71171 sequences for sample 'NIFP2402608' (type: META_ONT_DNA)\n",
      "✅ Added 45472 sequences for sample 'NIFP2402605' (type: META_ONT_DNA)\n",
      "✅ Added 22078 sequences for sample 'NIFP2402610' (type: META_ONT_DNA)\n",
      "✅ Added 31189 sequences for sample 'NIFP2402611' (type: META_ONT_DNA)\n"
     ]
    }
   ],
   "execution_count": 16
  },
  {
   "metadata": {
    "ExecuteTime": {
     "end_time": "2025-04-16T21:04:31.136452Z",
     "start_time": "2025-04-16T21:04:30.990625Z"
    }
   },
   "cell_type": "code",
   "source": [
    "conn.commit()\n",
    "conn.close()"
   ],
   "id": "e67f139413871d62",
   "outputs": [],
   "execution_count": 17
  },
  {
   "metadata": {
    "ExecuteTime": {
     "end_time": "2025-04-16T21:04:31.161918Z",
     "start_time": "2025-04-16T21:04:31.141846Z"
    }
   },
   "cell_type": "code",
   "source": [
    "# Testing out grabing a random contig\n",
    "# Connect to the database\n",
    "conn = sqlite3.connect(\"Testing.db\", timeout=10)\n",
    "cursor = conn.cursor()\n",
    "\n",
    "# Query to get all contig ids for the sample 'NIFP2402606'\n",
    "cursor.execute(\"\"\"\n",
    "    SELECT contig_id, sequence FROM contigs\n",
    "    WHERE sample = 'NIFP2402606';\n",
    "\"\"\")\n",
    "\n",
    "# Fetch all results\n",
    "contigs = cursor.fetchall()\n",
    "\n",
    "# If there are contigs, select a random one\n",
    "if contigs:\n",
    "    random_contig = random.choice(contigs)\n",
    "    contig_id, sequence = random_contig\n",
    "    print(f\"Random contig ID: {contig_id}\")\n",
    "    print(f\"Sequence: {sequence}\")\n",
    "else:\n",
    "    print(\"No contigs found for sample NIFP2402606\")\n",
    "\n",
    "# Close the connection\n",
    "conn.close()"
   ],
   "id": "368ffc5cdfbc73d0",
   "outputs": [
    {
     "name": "stdout",
     "output_type": "stream",
     "text": [
      "Random contig ID: NoClass_6155e154-5c33-45e8-9a55-a5d29f8847b0\n",
      "Sequence: GTATTGAAGAAAAAGGTAAGAAGCTAAACAGCAGCATGTTGAGAACACAATGAAACAAGAAAAAGAACTCCTGATCGCAATTACTGCTCTCTTCGTTACCCTCCTTGCTTTCCGAATCGCCGATTGTGTACTTCACAAACACGTACTCAACGACATGATAGCCAGGAGAAATAATTAGAAGAGAATGAGAGAAATGCTTTCCTTTATTATTGTAAAAGAGATTAGGATTGCACAGCGCAGAACCGGTGAAAGGGGGAGGCTAGTTGACAGTCATAGCAAAAGCCTGGATGTTGTTCTTTCGTTTGTTGGTTTTGTGTAGATTCCCCCCTTTTTTTTCTGTTATCTGGTCTGACTCTGTCTCCCAGGATGCTTTTTGTTTGTTTGTTTGTTTGCTCTTTTTTGTTTGGTTTGGTTTTGTTCTCTCACGCTACGAATTGTGGCTGTTTCGCAAGATGAACGACCAAGATGACATATGCCGCTCTCATTGTTGACATCAACTTACGAGATTTTTCACCATGCAAAATTATTTGGCATGTGGATATCTTGAGAAAAATCACATACTCGTGATTTTTCTCCTTTAAAGAAAAATAAAAAAAATAGGGAGAAACAGAGAGAAAGAGAGCTCGTGAGTCCTGTCGCAGCTCTCATTCCAGTTGTTTTTGTTGTTGGCGTTGTTCAT\n"
     ]
    }
   ],
   "execution_count": 18
  },
  {
   "metadata": {
    "ExecuteTime": {
     "end_time": "2025-04-16T21:04:31.168775Z",
     "start_time": "2025-04-16T21:04:31.166930Z"
    }
   },
   "cell_type": "code",
   "source": [
    "#Paths for importing amrfinder reuslts\n",
    "report_folder = \"/Users/edwardbird/Documents/GitHub/edwardbirdlab-tools/test_data/Testing_SQLite/AMRFINDER\"\n",
    "json_mapping_path = \"/Users/edwardbird/Documents/GitHub/edwardbirdlab-tools/conf/abstraction_layers/amrfinderplus_abstraction.json\""
   ],
   "id": "fa748891838451ae",
   "outputs": [],
   "execution_count": 19
  },
  {
   "metadata": {
    "ExecuteTime": {
     "end_time": "2025-04-16T21:04:31.179734Z",
     "start_time": "2025-04-16T21:04:31.177819Z"
    }
   },
   "cell_type": "code",
   "source": [
    "# Load column mapping json\n",
    "with open(json_mapping_path, \"r\") as f:\n",
    "    column_map = json.load(f)"
   ],
   "id": "415c1b06ed2fe72e",
   "outputs": [],
   "execution_count": 20
  },
  {
   "metadata": {
    "ExecuteTime": {
     "end_time": "2025-04-16T21:04:31.183756Z",
     "start_time": "2025-04-16T21:04:31.181951Z"
    }
   },
   "cell_type": "code",
   "source": [
    "# Open DB connection\n",
    "conn = sqlite3.connect(db_path)\n",
    "cursor = conn.cursor()"
   ],
   "id": "e09b2ddc7b95ff8c",
   "outputs": [],
   "execution_count": 21
  },
  {
   "metadata": {
    "ExecuteTime": {
     "end_time": "2025-04-16T21:04:31.191855Z",
     "start_time": "2025-04-16T21:04:31.189154Z"
    }
   },
   "cell_type": "code",
   "source": [
    "# Create table if needed\n",
    "columns_sql = \",\\n\".join([f\"{val} TEXT\" for val in column_map.values()])\n",
    "cursor.execute(f\"\"\"\n",
    "CREATE TABLE IF NOT EXISTS amrfinder (\n",
    "    id INTEGER PRIMARY KEY AUTOINCREMENT,\n",
    "    sample TEXT,\n",
    "    sequencing_type TEXT,\n",
    "    {columns_sql},\n",
    "    FOREIGN KEY (sample, sequencing_type, contig_id) REFERENCES contigs(sample, sequencing_type, contig_id)\n",
    ");\n",
    "\"\"\")"
   ],
   "id": "c9ba720857ae3007",
   "outputs": [
    {
     "data": {
      "text/plain": [
       "<sqlite3.Cursor at 0x14a103d40>"
      ]
     },
     "execution_count": 22,
     "metadata": {},
     "output_type": "execute_result"
    }
   ],
   "execution_count": 22
  },
  {
   "metadata": {
    "ExecuteTime": {
     "end_time": "2025-04-16T21:04:31.220002Z",
     "start_time": "2025-04-16T21:04:31.197434Z"
    }
   },
   "cell_type": "code",
   "source": [
    "# Bulk import AMRFinder reports\n",
    "for fname in os.listdir(report_folder):\n",
    "    if fname.endswith(\"_AMRFinder.tsv\"):\n",
    "        sample = fname.split(\"_AMRFinder.tsv\")[0]\n",
    "        file_path = os.path.join(report_folder, fname)\n",
    "\n",
    "        try:\n",
    "            sequencing_type = get_sequencing_type(sample)\n",
    "        except ValueError as e:\n",
    "            print(f\"Skipping {fname}: {e}\")\n",
    "            continue\n",
    "\n",
    "        try:\n",
    "            df = pd.read_csv(file_path, sep=\"\\t\")\n",
    "            df.rename(columns=column_map, inplace=True)\n",
    "\n",
    "            # Add required relationship columns\n",
    "            df[\"sample\"] = sample\n",
    "            df[\"sequencing_type\"] = sequencing_type\n",
    "\n",
    "            if \"contig_id\" not in df.columns:\n",
    "                raise ValueError(f\"No 'contig_id' column found in {fname} after mapping.\")\n",
    "\n",
    "            # Reorder columns\n",
    "            df = df[[\"sample\", \"sequencing_type\", \"contig_id\"] + list(column_map.values())]\n",
    "\n",
    "            # Insert into database\n",
    "            df.to_sql(\"amrfinder\", conn, if_exists=\"append\", index=False)\n",
    "            print(f\"✅ Imported {len(df)} AMRFinder hits for sample '{sample}' (type: {sequencing_type})\")\n",
    "\n",
    "        except Exception as e:\n",
    "            print(f\"⚠️ Failed to import '{fname}': {e}\")"
   ],
   "id": "f23d24ea13c9c59b",
   "outputs": [
    {
     "name": "stdout",
     "output_type": "stream",
     "text": [
      "✅ Imported 1 AMRFinder hits for sample 'NIFP2402608' (type: META_ONT_DNA)\n",
      "✅ Imported 6 AMRFinder hits for sample 'NIFP2402611' (type: META_ONT_DNA)\n",
      "✅ Imported 1 AMRFinder hits for sample 'NIFP2402606' (type: META_ONT_DNA)\n",
      "✅ Imported 0 AMRFinder hits for sample 'NIFP2402605' (type: META_ONT_DNA)\n",
      "✅ Imported 7 AMRFinder hits for sample 'NIFP2402612' (type: META_ONT_DNA)\n",
      "✅ Imported 0 AMRFinder hits for sample 'NIFP2402607' (type: META_ONT_DNA)\n",
      "✅ Imported 4 AMRFinder hits for sample 'NIFP2402610' (type: META_ONT_DNA)\n",
      "✅ Imported 1 AMRFinder hits for sample 'NIFP2402609' (type: META_ONT_DNA)\n"
     ]
    }
   ],
   "execution_count": 23
  },
  {
   "metadata": {
    "ExecuteTime": {
     "end_time": "2025-04-16T21:04:31.228919Z",
     "start_time": "2025-04-16T21:04:31.226856Z"
    }
   },
   "cell_type": "code",
   "source": [
    "conn.commit()\n",
    "conn.close()"
   ],
   "id": "cdb94e59b31480b1",
   "outputs": [],
   "execution_count": 24
  },
  {
   "metadata": {
    "ExecuteTime": {
     "end_time": "2025-04-16T21:04:31.236623Z",
     "start_time": "2025-04-16T21:04:31.234750Z"
    }
   },
   "cell_type": "code",
   "source": [
    "#Setting directories for kraken2 import\n",
    "K2Reports = \"/Users/edwardbird/Documents/GitHub/edwardbirdlab-tools/test_data/Testing_SQLite/KRAKEN2_PLUSPF_SE\"\n",
    "K2_Column_Abs = \"/Users/edwardbird/Documents/GitHub/edwardbirdlab-tools/conf/abstraction_layers/kraken2_abstraction.json\""
   ],
   "id": "8a959de7fe105203",
   "outputs": [],
   "execution_count": 25
  },
  {
   "metadata": {
    "ExecuteTime": {
     "end_time": "2025-04-16T21:04:31.245577Z",
     "start_time": "2025-04-16T21:04:31.243027Z"
    }
   },
   "cell_type": "code",
   "source": [
    "# Extract Column Names, Null names will be skipped\n",
    "with open(K2_Column_Abs, \"r\") as f:\n",
    "    column_mapping = json.load(f)\n",
    "\n",
    "col_indices = {k: v for k, v in column_mapping.items() if v is not None}\n",
    "col_names = list(col_indices.keys())\n",
    "col_positions = list(col_indices.values())"
   ],
   "id": "27cdea963e968f18",
   "outputs": [],
   "execution_count": 26
  },
  {
   "metadata": {
    "ExecuteTime": {
     "end_time": "2025-04-16T21:04:31.254177Z",
     "start_time": "2025-04-16T21:04:31.252117Z"
    }
   },
   "cell_type": "code",
   "source": [
    "conn = sqlite3.connect(db_path)\n",
    "cursor = conn.cursor()"
   ],
   "id": "5e5cff28e8e459b6",
   "outputs": [],
   "execution_count": 27
  },
  {
   "metadata": {
    "ExecuteTime": {
     "end_time": "2025-04-16T21:04:31.262410Z",
     "start_time": "2025-04-16T21:04:31.260064Z"
    }
   },
   "cell_type": "code",
   "source": [
    "# Make sure the new kraken_report table exists\n",
    "cursor.execute(\"\"\"\n",
    "CREATE TABLE IF NOT EXISTS kraken_report (\n",
    "    sample TEXT,\n",
    "    sequencing_type TEXT,\n",
    "    percentage REAL,\n",
    "    clade_fragments INTEGER,\n",
    "    taxon_fragments INTEGER,\n",
    "    minimizers INTEGER,\n",
    "    distinct_minimizers INTEGER,\n",
    "    rank_code TEXT,\n",
    "    tax_id INTEGER,\n",
    "    name TEXT,\n",
    "    FOREIGN KEY (sample, sequencing_type) REFERENCES metadata(sample, sequencing_type)\n",
    ")\n",
    "\"\"\")"
   ],
   "id": "106cf2a7af78f691",
   "outputs": [
    {
     "data": {
      "text/plain": [
       "<sqlite3.Cursor at 0x12ff41740>"
      ]
     },
     "execution_count": 28,
     "metadata": {},
     "output_type": "execute_result"
    }
   ],
   "execution_count": 28
  },
  {
   "metadata": {
    "ExecuteTime": {
     "end_time": "2025-04-16T21:04:31.326359Z",
     "start_time": "2025-04-16T21:04:31.268321Z"
    }
   },
   "cell_type": "code",
   "source": [
    "# Process each report\n",
    "for fname in os.listdir(K2Reports):\n",
    "    if fname.endswith(\"_report.tsv\"):\n",
    "        sample = fname.replace(\"_report.tsv\", \"\")\n",
    "        sequencing_type = get_sequencing_type(sample)\n",
    "        full_path = os.path.join(K2Reports, fname)\n",
    "\n",
    "        df_raw = pd.read_csv(full_path, sep=\"\\t\", header=None, usecols=col_positions)\n",
    "        df_raw.columns = col_names\n",
    "\n",
    "        df_raw[\"sample\"] = sample\n",
    "        df_raw[\"sequencing_type\"] = sequencing_type\n",
    "\n",
    "        df_raw.to_sql(\"kraken_report\", conn, if_exists=\"append\", index=False)\n",
    "\n",
    "        print(f\"✅ Imported Kraken report for sample: {sample} (type: {sequencing_type})\")"
   ],
   "id": "6a1e513e31cd8193",
   "outputs": [
    {
     "name": "stdout",
     "output_type": "stream",
     "text": [
      "✅ Imported Kraken report for sample: NIFP2402606 (type: META_ONT_DNA)\n",
      "✅ Imported Kraken report for sample: NIFP2402612 (type: META_ONT_DNA)\n",
      "✅ Imported Kraken report for sample: NIFP2402609 (type: META_ONT_DNA)\n",
      "✅ Imported Kraken report for sample: NIFP2402610 (type: META_ONT_DNA)\n",
      "✅ Imported Kraken report for sample: NIFP2402607 (type: META_ONT_DNA)\n",
      "✅ Imported Kraken report for sample: NIFP2402611 (type: META_ONT_DNA)\n",
      "✅ Imported Kraken report for sample: NIFP2402605 (type: META_ONT_DNA)\n",
      "✅ Imported Kraken report for sample: NIFP2402608 (type: META_ONT_DNA)\n"
     ]
    }
   ],
   "execution_count": 29
  },
  {
   "metadata": {
    "ExecuteTime": {
     "end_time": "2025-04-16T21:04:31.334253Z",
     "start_time": "2025-04-16T21:04:31.332797Z"
    }
   },
   "cell_type": "code",
   "source": [
    "# Connect to (or create) the SQLite database\n",
    "conn = sqlite3.connect(\"Testing.db\")"
   ],
   "id": "fd5b61cb006eef11",
   "outputs": [],
   "execution_count": 30
  },
  {
   "metadata": {
    "ExecuteTime": {
     "end_time": "2025-04-16T21:04:31.348577Z",
     "start_time": "2025-04-16T21:04:31.346758Z"
    }
   },
   "cell_type": "code",
   "source": [
    "#Paths for importing amrfinder reuslts\n",
    "report_folder = \"/Users/edwardbird/Documents/GitHub/edwardbirdlab-tools/test_data/Testing_SQLite/CARD_CONTIG\"\n",
    "json_mapping_path = \"/Users/edwardbird/Documents/GitHub/edwardbirdlab-tools/conf/abstraction_layers/card_phm_abstraction.json\""
   ],
   "id": "45ef586b4ccbe24",
   "outputs": [],
   "execution_count": 31
  },
  {
   "metadata": {
    "ExecuteTime": {
     "end_time": "2025-04-16T21:04:31.352289Z",
     "start_time": "2025-04-16T21:04:31.350555Z"
    }
   },
   "cell_type": "code",
   "source": [
    "# Load column mapping json\n",
    "with open(json_mapping_path, \"r\") as f:\n",
    "    column_map = json.load(f)"
   ],
   "id": "af8075c369b6f399",
   "outputs": [],
   "execution_count": 32
  },
  {
   "metadata": {
    "ExecuteTime": {
     "end_time": "2025-04-16T21:04:31.361335Z",
     "start_time": "2025-04-16T21:04:31.358672Z"
    }
   },
   "cell_type": "code",
   "source": [
    "# Create table if needed\n",
    "columns_sql = \",\\n\".join([f\"{val} TEXT\" for val in column_map.values()])\n",
    "cursor.execute(f\"\"\"\n",
    "CREATE TABLE IF NOT EXISTS card_phm (\n",
    "    id INTEGER PRIMARY KEY AUTOINCREMENT,\n",
    "    sample TEXT,\n",
    "    sequencing_type TEXT,\n",
    "    contig_id TEXT,\n",
    "    {columns_sql},\n",
    "    FOREIGN KEY (sample, sequencing_type, contig_id) REFERENCES contigs(sample, sequencing_type, contig_id)\n",
    ");\n",
    "\"\"\")"
   ],
   "id": "c84c1cb39d00aee2",
   "outputs": [
    {
     "data": {
      "text/plain": [
       "<sqlite3.Cursor at 0x12ff41740>"
      ]
     },
     "execution_count": 33,
     "metadata": {},
     "output_type": "execute_result"
    }
   ],
   "execution_count": 33
  },
  {
   "metadata": {
    "ExecuteTime": {
     "end_time": "2025-04-16T21:04:31.396638Z",
     "start_time": "2025-04-16T21:04:31.368843Z"
    }
   },
   "cell_type": "code",
   "source": [
    "# Bulk import AMRFinder reports\n",
    "for fname in os.listdir(report_folder):\n",
    "    if fname.endswith(\"_out.txt\"):\n",
    "        sample = fname.split(\"_out.txt\")[0]\n",
    "        file_path = os.path.join(report_folder, fname)\n",
    "\n",
    "        try:\n",
    "            sequencing_type = get_sequencing_type(sample)\n",
    "        except ValueError as e:\n",
    "            print(f\"Skipping {fname}: {e}\")\n",
    "            continue\n",
    "\n",
    "        try:\n",
    "            df = pd.read_csv(file_path, sep=\"\\t\")\n",
    "            df.rename(columns=column_map, inplace=True)\n",
    "            df['contig_id'] = df['contig'].str.replace(r'_\\d+$', '', regex=True)\n",
    "\n",
    "            # Add required relationship columns\n",
    "            df[\"sample\"] = sample\n",
    "            df[\"sequencing_type\"] = sequencing_type\n",
    "\n",
    "            if \"contig_id\" not in df.columns:\n",
    "                raise ValueError(f\"No 'contig_id' column found in {fname} after mapping.\")\n",
    "\n",
    "            # Reorder columns\n",
    "            df = df[[\"sample\", \"sequencing_type\", \"contig_id\"] + list(column_map.values())]\n",
    "\n",
    "            # Insert into database\n",
    "            df.to_sql(\"card_phm\", conn, if_exists=\"append\", index=False)\n",
    "            print(f\"✅ Imported {len(df)} card_phm hits for sample '{sample}' (type: {sequencing_type})\")\n",
    "\n",
    "        except Exception as e:\n",
    "            print(f\"⚠️ Failed to import '{fname}': {e}\")"
   ],
   "id": "9a8cf3ff2959f5a0",
   "outputs": [
    {
     "name": "stdout",
     "output_type": "stream",
     "text": [
      "✅ Imported 8 card_phm hits for sample 'NIFP2402605' (type: META_ONT_DNA)\n",
      "✅ Imported 1 card_phm hits for sample 'NIFP2402607' (type: META_ONT_DNA)\n",
      "✅ Imported 0 card_phm hits for sample 'NIFP2402606' (type: META_ONT_DNA)\n",
      "✅ Imported 8 card_phm hits for sample 'NIFP2402612' (type: META_ONT_DNA)\n",
      "✅ Imported 2 card_phm hits for sample 'NIFP2402609' (type: META_ONT_DNA)\n",
      "✅ Imported 12 card_phm hits for sample 'NIFP2402610' (type: META_ONT_DNA)\n",
      "✅ Imported 7 card_phm hits for sample 'NIFP2402611' (type: META_ONT_DNA)\n",
      "✅ Imported 5 card_phm hits for sample 'NIFP2402608' (type: META_ONT_DNA)\n"
     ]
    }
   ],
   "execution_count": 34
  },
  {
   "metadata": {
    "ExecuteTime": {
     "end_time": "2025-04-16T21:04:31.443432Z",
     "start_time": "2025-04-16T21:04:31.441824Z"
    }
   },
   "cell_type": "code",
   "source": [
    "conn.commit()\n",
    "conn.close()"
   ],
   "id": "54e37fb94774ddc9",
   "outputs": [],
   "execution_count": 35
  },
  {
   "metadata": {},
   "cell_type": "code",
   "outputs": [],
   "execution_count": null,
   "source": [
    "# Connect to (or create) the SQLite database\n",
    "conn = sqlite3.connect(\"Testing.db\")"
   ],
   "id": "9afbc7fe6c791e5d"
  },
  {
   "metadata": {},
   "cell_type": "code",
   "outputs": [],
   "execution_count": null,
   "source": "",
   "id": "5d63e18dcfe23441"
  },
  {
   "metadata": {
    "ExecuteTime": {
     "end_time": "2025-04-16T22:39:44.448684Z",
     "start_time": "2025-04-16T22:39:44.446820Z"
    }
   },
   "cell_type": "code",
   "source": [
    "conn.commit()\n",
    "conn.close()"
   ],
   "id": "6b95e5719a7bba27",
   "outputs": [],
   "execution_count": 93
  },
  {
   "metadata": {
    "ExecuteTime": {
     "end_time": "2025-04-16T21:04:31.459631Z",
     "start_time": "2025-04-16T21:04:31.457743Z"
    }
   },
   "cell_type": "code",
   "source": [
    "# Connect to (or create) the SQLite database\n",
    "conn = sqlite3.connect(\"Testing.db\")"
   ],
   "id": "149f02d445debfad",
   "outputs": [],
   "execution_count": 36
  },
  {
   "metadata": {
    "ExecuteTime": {
     "end_time": "2025-04-16T21:04:31.469716Z",
     "start_time": "2025-04-16T21:04:31.466450Z"
    }
   },
   "cell_type": "code",
   "source": [
    "# Checking CARD PHM Import\n",
    "query_counts = \"\"\"\n",
    "SELECT\n",
    "  COUNT(*) AS total_rows,\n",
    "  SUM(CASE\n",
    "        WHEN contigs.contig_id IS NOT NULL THEN 1\n",
    "        ELSE 0\n",
    "      END) AS matched_rows,\n",
    "  SUM(CASE\n",
    "        WHEN contigs.contig_id IS NULL THEN 1\n",
    "        ELSE 0\n",
    "      END) AS missing_rows\n",
    "FROM card_phm\n",
    "LEFT JOIN contigs\n",
    "  ON card_phm.sample = contigs.sample\n",
    "  AND card_phm.sequencing_type = contigs.sequencing_type\n",
    "  AND card_phm.contig_id = contigs.contig_id;\n",
    "\"\"\"\n",
    "\n",
    "counts = pd.read_sql_query(query_counts, conn)\n",
    "print(counts)\n",
    "\n"
   ],
   "id": "9ba663da12778560",
   "outputs": [
    {
     "name": "stdout",
     "output_type": "stream",
     "text": [
      "   total_rows  matched_rows  missing_rows\n",
      "0          43            43             0\n"
     ]
    }
   ],
   "execution_count": 37
  },
  {
   "metadata": {
    "ExecuteTime": {
     "end_time": "2025-04-16T21:04:31.479428Z",
     "start_time": "2025-04-16T21:04:31.476762Z"
    }
   },
   "cell_type": "code",
   "source": [
    "#Checking AMRFinder\n",
    "query_counts = \"\"\"\n",
    "SELECT\n",
    "  COUNT(*) AS total_rows,\n",
    "  SUM(CASE\n",
    "        WHEN contigs.contig_id IS NOT NULL THEN 1\n",
    "        ELSE 0\n",
    "      END) AS matched_rows,\n",
    "  SUM(CASE\n",
    "        WHEN contigs.contig_id IS NULL THEN 1\n",
    "        ELSE 0\n",
    "      END) AS missing_rows\n",
    "FROM amrfinder\n",
    "LEFT JOIN contigs\n",
    "  ON amrfinder.sample = contigs.sample\n",
    "  AND amrfinder.sequencing_type = contigs.sequencing_type\n",
    "  AND amrfinder.contig_id = contigs.contig_id;\n",
    "\"\"\"\n",
    "\n",
    "counts = pd.read_sql_query(query_counts, conn)\n",
    "print(counts)\n",
    "\n"
   ],
   "id": "c4366dc8595d0289",
   "outputs": [
    {
     "name": "stdout",
     "output_type": "stream",
     "text": [
      "   total_rows  matched_rows  missing_rows\n",
      "0          20            20             0\n"
     ]
    }
   ],
   "execution_count": 38
  },
  {
   "metadata": {
    "ExecuteTime": {
     "end_time": "2025-04-16T21:23:51.650583Z",
     "start_time": "2025-04-16T21:23:51.638669Z"
    }
   },
   "cell_type": "code",
   "source": [
    "# Load JSON from file\n",
    "with open(\"/Users/edwardbird/Documents/GitHub/edwardbirdlab-tools/test_data/Testing_SQLite/RESFINDER/NIFP2402612/NIFP2402612_allclass.json\") as f:\n",
    "    data = json.load(f)\n",
    "\n",
    "# Convert to DataFrame\n",
    "df = pd.DataFrame(data)\n",
    "\n",
    "# Export to CSV\n",
    "df.to_csv(\"resfinder_test.csv\", index=False)"
   ],
   "id": "277b2c84bb181b84",
   "outputs": [],
   "execution_count": 39
  },
  {
   "metadata": {
    "ExecuteTime": {
     "end_time": "2025-04-16T21:41:06.651094Z",
     "start_time": "2025-04-16T21:41:06.646619Z"
    }
   },
   "cell_type": "code",
   "source": [
    "def parse_resfinder_json(path):\n",
    "    with open(path) as f:\n",
    "        data = json.load(f)\n",
    "\n",
    "    genes = []\n",
    "    mutations = []\n",
    "\n",
    "    # Get helper dicts\n",
    "    phenotypes = data.get(\"phenotypes\", {})\n",
    "    regions = data.get(\"seq_regions\", {})\n",
    "    variations = data.get(\"seq_variations\", {})\n",
    "\n",
    "    # Loop over resistant phenotypes\n",
    "    for p in phenotypes.values():\n",
    "        #if not p.get(\"amr_resistant\", False):\n",
    "        #    continue\n",
    "\n",
    "        drug = p.get(\"amr_resistance\", \"unknown\")\n",
    "        drug_class = \", \".join(p.get(\"amr_classes\", []))\n",
    "\n",
    "        # --- Gene hits ---\n",
    "        for region_key in p.get(\"seq_regions\", []):\n",
    "            r = regions.get(region_key, {})\n",
    "            genes.append({\n",
    "                \"gene\": r.get(\"name\"),\n",
    "                \"drug\": drug,\n",
    "                \"drug_class\": drug_class,\n",
    "                \"identity\": r.get(\"identity\"),\n",
    "                \"coverage\": r.get(\"coverage\"),\n",
    "                \"ref_acc\": r.get(\"ref_acc\"),\n",
    "            })\n",
    "\n",
    "        # --- Mutations ---\n",
    "        for v_key in p.get(\"seq_variations\", []):\n",
    "            v = variations.get(v_key, {})\n",
    "            for r_key in v.get(\"seq_regions\", []):\n",
    "                r = regions.get(r_key, {})\n",
    "                mutations.append({\n",
    "                    \"mutation\": v.get(\"seq_var\"),\n",
    "                    \"codon_change\": v.get(\"codon_change\"),\n",
    "                    \"gene\": r.get(\"name\"),\n",
    "                    \"drug\": drug,\n",
    "                    \"drug_class\": drug_class\n",
    "                })\n",
    "\n",
    "    return genes, mutations"
   ],
   "id": "c7383866f1bec605",
   "outputs": [],
   "execution_count": 53
  },
  {
   "metadata": {
    "ExecuteTime": {
     "end_time": "2025-04-16T21:41:07.514288Z",
     "start_time": "2025-04-16T21:41:07.510890Z"
    }
   },
   "cell_type": "code",
   "source": [
    "genes, mutations = parse_resfinder_json(\"/Users/edwardbird/Documents/GitHub/edwardbirdlab-tools/test_data/Testing_SQLite/RESFINDER/NIFP2402612/NIFP2402612_allclass.json\")\n",
    "\n",
    "# Print gene results\n",
    "for g in genes:\n",
    "    print(g)\n",
    "\n",
    "# Print mutations\n",
    "for m in mutations:\n",
    "    print(m)\n"
   ],
   "id": "fc978b4ffb329156",
   "outputs": [
    {
     "name": "stdout",
     "output_type": "stream",
     "text": [
      "{'gene': 'aadA1', 'drug': 'streptomycin', 'drug_class': 'aminoglycoside', 'identity': 98.23232323232324, 'coverage': 99.49302915082383, 'ref_acc': 'JQ480156'}\n",
      "{'gene': 'ant(6)-Ia', 'drug': 'streptomycin', 'drug_class': 'aminoglycoside', 'identity': 97.14599341383095, 'coverage': 98.45984598459846, 'ref_acc': 'AF330699'}\n",
      "{'gene': \"aph(3')-III\", 'drug': 'amikacin', 'drug_class': 'aminoglycoside', 'identity': 97.24310776942356, 'coverage': 99.11949685534591, 'ref_acc': 'M26832'}\n",
      "{'gene': \"aph(3')-III\", 'drug': 'amikacin', 'drug_class': 'aminoglycoside', 'identity': 98.6232790988736, 'coverage': 99.87421383647799, 'ref_acc': 'M26832'}\n",
      "{'gene': \"aph(3')-III\", 'drug': 'isepamicin', 'drug_class': 'aminoglycoside', 'identity': 97.24310776942356, 'coverage': 99.11949685534591, 'ref_acc': 'M26832'}\n",
      "{'gene': \"aph(3')-III\", 'drug': 'isepamicin', 'drug_class': 'aminoglycoside', 'identity': 98.6232790988736, 'coverage': 99.87421383647799, 'ref_acc': 'M26832'}\n",
      "{'gene': \"aph(3')-III\", 'drug': 'kanamycin', 'drug_class': 'aminoglycoside', 'identity': 97.24310776942356, 'coverage': 99.11949685534591, 'ref_acc': 'M26832'}\n",
      "{'gene': \"aph(3')-III\", 'drug': 'kanamycin', 'drug_class': 'aminoglycoside', 'identity': 98.6232790988736, 'coverage': 99.87421383647799, 'ref_acc': 'M26832'}\n",
      "{'gene': \"aph(3')-III\", 'drug': 'neomycin', 'drug_class': 'aminoglycoside', 'identity': 97.24310776942356, 'coverage': 99.11949685534591, 'ref_acc': 'M26832'}\n",
      "{'gene': \"aph(3')-III\", 'drug': 'neomycin', 'drug_class': 'aminoglycoside', 'identity': 98.6232790988736, 'coverage': 99.87421383647799, 'ref_acc': 'M26832'}\n",
      "{'gene': \"aph(3')-III\", 'drug': 'lividomycin', 'drug_class': 'aminoglycoside', 'identity': 97.24310776942356, 'coverage': 99.11949685534591, 'ref_acc': 'M26832'}\n",
      "{'gene': \"aph(3')-III\", 'drug': 'lividomycin', 'drug_class': 'aminoglycoside', 'identity': 98.6232790988736, 'coverage': 99.87421383647799, 'ref_acc': 'M26832'}\n",
      "{'gene': \"aph(3')-III\", 'drug': 'paromomycin', 'drug_class': 'aminoglycoside', 'identity': 97.24310776942356, 'coverage': 99.11949685534591, 'ref_acc': 'M26832'}\n",
      "{'gene': \"aph(3')-III\", 'drug': 'paromomycin', 'drug_class': 'aminoglycoside', 'identity': 98.6232790988736, 'coverage': 99.87421383647799, 'ref_acc': 'M26832'}\n",
      "{'gene': \"aph(3')-III\", 'drug': 'ribostamycin', 'drug_class': 'aminoglycoside', 'identity': 97.24310776942356, 'coverage': 99.11949685534591, 'ref_acc': 'M26832'}\n",
      "{'gene': \"aph(3')-III\", 'drug': 'ribostamycin', 'drug_class': 'aminoglycoside', 'identity': 98.6232790988736, 'coverage': 99.87421383647799, 'ref_acc': 'M26832'}\n",
      "{'gene': \"aph(3')-III\", 'drug': 'butirosin', 'drug_class': 'aminoglycoside', 'identity': 97.24310776942356, 'coverage': 99.11949685534591, 'ref_acc': 'M26832'}\n",
      "{'gene': \"aph(3')-III\", 'drug': 'butirosin', 'drug_class': 'aminoglycoside', 'identity': 98.6232790988736, 'coverage': 99.87421383647799, 'ref_acc': 'M26832'}\n",
      "{'gene': 'aadA1', 'drug': 'spectinomycin', 'drug_class': 'aminocyclitol', 'identity': 98.23232323232324, 'coverage': 99.49302915082383, 'ref_acc': 'JQ480156'}\n",
      "{'gene': 'qnrD3', 'drug': 'ciprofloxacin', 'drug_class': 'quinolone', 'identity': 98.45201238390094, 'coverage': 99.53488372093024, 'ref_acc': 'KX130945'}\n",
      "{'gene': 'qnrD3', 'drug': 'ciprofloxacin', 'drug_class': 'quinolone', 'identity': 99.22600619195046, 'coverage': 99.84496124031008, 'ref_acc': 'KX130945'}\n",
      "{'gene': 'qnrD3', 'drug': 'ciprofloxacin', 'drug_class': 'quinolone', 'identity': 98.2998454404946, 'coverage': 99.84496124031008, 'ref_acc': 'KX130945'}\n",
      "{'gene': 'cfxA3', 'drug': 'ampicillin', 'drug_class': 'beta-lactam', 'identity': 86.77966101694915, 'coverage': 60.86956521739131, 'ref_acc': 'AF472622'}\n",
      "{'gene': 'cfxA', 'drug': 'ampicillin', 'drug_class': 'beta-lactam', 'identity': 86.77966101694915, 'coverage': 60.86956521739131, 'ref_acc': 'U38243'}\n",
      "{'gene': 'cfxA', 'drug': 'cefoxitin', 'drug_class': 'beta-lactam', 'identity': 86.77966101694915, 'coverage': 60.86956521739131, 'ref_acc': 'U38243'}\n",
      "{'gene': 'cfxA5', 'drug': 'unknown beta-lactam', 'drug_class': 'beta-lactam', 'identity': 86.77966101694915, 'coverage': 60.86956521739131, 'ref_acc': 'AY769934'}\n",
      "{'gene': 'cfxA4', 'drug': 'unknown beta-lactam', 'drug_class': 'beta-lactam', 'identity': 86.77966101694915, 'coverage': 60.86956521739131, 'ref_acc': 'AY769933'}\n",
      "{'gene': 'cfxA2', 'drug': 'unknown beta-lactam', 'drug_class': 'beta-lactam', 'identity': 86.77966101694915, 'coverage': 60.86956521739131, 'ref_acc': 'AF504914'}\n",
      "{'gene': 'lnu(C)', 'drug': 'lincomycin', 'drug_class': 'lincosamide', 'identity': 91.38276553106212, 'coverage': 100.0, 'ref_acc': 'AY928180'}\n",
      "{'gene': 'erm(B)', 'drug': 'lincomycin', 'drug_class': 'lincosamide', 'identity': 96.21109607577807, 'coverage': 98.3739837398374, 'ref_acc': 'U86375'}\n",
      "{'gene': 'erm(B)', 'drug': 'clindamycin', 'drug_class': 'lincosamide', 'identity': 96.21109607577807, 'coverage': 98.3739837398374, 'ref_acc': 'U86375'}\n",
      "{'gene': 'mef(A)', 'drug': 'erythromycin', 'drug_class': 'macrolide', 'identity': 92.50585480093677, 'coverage': 68.80131362889983, 'ref_acc': 'AF227520'}\n",
      "{'gene': 'mef(A)', 'drug': 'erythromycin', 'drug_class': 'macrolide', 'identity': 93.62745098039215, 'coverage': 99.83579638752053, 'ref_acc': 'AF227520'}\n",
      "{'gene': 'mef(A)', 'drug': 'erythromycin', 'drug_class': 'macrolide', 'identity': 94.0628637951106, 'coverage': 70.03284072249589, 'ref_acc': 'AF227520'}\n",
      "{'gene': 'erm(B)', 'drug': 'erythromycin', 'drug_class': 'macrolide', 'identity': 96.21109607577807, 'coverage': 98.3739837398374, 'ref_acc': 'U86375'}\n",
      "{'gene': 'mef(A)', 'drug': 'azithromycin', 'drug_class': 'macrolide', 'identity': 92.50585480093677, 'coverage': 68.80131362889983, 'ref_acc': 'AF227520'}\n",
      "{'gene': 'mef(A)', 'drug': 'azithromycin', 'drug_class': 'macrolide', 'identity': 93.62745098039215, 'coverage': 99.83579638752053, 'ref_acc': 'AF227520'}\n",
      "{'gene': 'mef(A)', 'drug': 'azithromycin', 'drug_class': 'macrolide', 'identity': 94.0628637951106, 'coverage': 70.03284072249589, 'ref_acc': 'AF227520'}\n",
      "{'gene': 'tet(Q)', 'drug': 'tetracycline', 'drug_class': 'tetracycline', 'identity': 97.76179056754596, 'coverage': 64.27829698857737, 'ref_acc': 'L33696'}\n",
      "{'gene': 'tet(Q)', 'drug': 'tetracycline', 'drug_class': 'tetracycline', 'identity': 95.98352214212153, 'coverage': 99.11734164070613, 'ref_acc': 'L33696'}\n",
      "{'gene': 'tet(Q)', 'drug': 'tetracycline', 'drug_class': 'tetracycline', 'identity': 97.61658031088083, 'coverage': 99.5846313603323, 'ref_acc': 'L33696'}\n",
      "{'gene': 'tet(Q)', 'drug': 'tetracycline', 'drug_class': 'tetracycline', 'identity': 97.16640906749099, 'coverage': 99.79231568016614, 'ref_acc': 'L33696'}\n",
      "{'gene': 'tet(Q)', 'drug': 'tetracycline', 'drug_class': 'tetracycline', 'identity': 98.03386127799017, 'coverage': 94.39252336448598, 'ref_acc': 'L33696'}\n",
      "{'gene': 'tet(Q)', 'drug': 'tetracycline', 'drug_class': 'tetracycline', 'identity': 97.94480328831474, 'coverage': 87.33125649013499, 'ref_acc': 'L33696'}\n",
      "{'gene': 'tet(Q)', 'drug': 'tetracycline', 'drug_class': 'tetracycline', 'identity': 97.41060419235512, 'coverage': 82.91796469366562, 'ref_acc': 'Z21523'}\n",
      "{'gene': 'tet(40)', 'drug': 'tetracycline', 'drug_class': 'tetracycline', 'identity': 96.85966633954858, 'coverage': 81.9000819000819, 'ref_acc': 'FJ158002'}\n",
      "{'gene': 'tet(44)', 'drug': 'tetracycline', 'drug_class': 'tetracycline', 'identity': 96.83377308707124, 'coverage': 77.69110764430577, 'ref_acc': 'FN594949'}\n",
      "{'gene': 'tet(Q)', 'drug': 'doxycycline', 'drug_class': 'tetracycline', 'identity': 97.76179056754596, 'coverage': 64.27829698857737, 'ref_acc': 'L33696'}\n",
      "{'gene': 'tet(Q)', 'drug': 'doxycycline', 'drug_class': 'tetracycline', 'identity': 95.98352214212153, 'coverage': 99.11734164070613, 'ref_acc': 'L33696'}\n",
      "{'gene': 'tet(Q)', 'drug': 'doxycycline', 'drug_class': 'tetracycline', 'identity': 97.61658031088083, 'coverage': 99.5846313603323, 'ref_acc': 'L33696'}\n",
      "{'gene': 'tet(Q)', 'drug': 'doxycycline', 'drug_class': 'tetracycline', 'identity': 97.16640906749099, 'coverage': 99.79231568016614, 'ref_acc': 'L33696'}\n",
      "{'gene': 'tet(Q)', 'drug': 'doxycycline', 'drug_class': 'tetracycline', 'identity': 98.03386127799017, 'coverage': 94.39252336448598, 'ref_acc': 'L33696'}\n",
      "{'gene': 'tet(Q)', 'drug': 'doxycycline', 'drug_class': 'tetracycline', 'identity': 97.94480328831474, 'coverage': 87.33125649013499, 'ref_acc': 'L33696'}\n",
      "{'gene': 'tet(Q)', 'drug': 'doxycycline', 'drug_class': 'tetracycline', 'identity': 97.41060419235512, 'coverage': 82.91796469366562, 'ref_acc': 'Z21523'}\n",
      "{'gene': 'tet(40)', 'drug': 'doxycycline', 'drug_class': 'tetracycline', 'identity': 96.85966633954858, 'coverage': 81.9000819000819, 'ref_acc': 'FJ158002'}\n",
      "{'gene': 'tet(44)', 'drug': 'doxycycline', 'drug_class': 'tetracycline', 'identity': 96.83377308707124, 'coverage': 77.69110764430577, 'ref_acc': 'FN594949'}\n",
      "{'gene': 'tet(Q)', 'drug': 'minocycline', 'drug_class': 'tetracycline', 'identity': 97.76179056754596, 'coverage': 64.27829698857737, 'ref_acc': 'L33696'}\n",
      "{'gene': 'tet(Q)', 'drug': 'minocycline', 'drug_class': 'tetracycline', 'identity': 95.98352214212153, 'coverage': 99.11734164070613, 'ref_acc': 'L33696'}\n",
      "{'gene': 'tet(Q)', 'drug': 'minocycline', 'drug_class': 'tetracycline', 'identity': 97.61658031088083, 'coverage': 99.5846313603323, 'ref_acc': 'L33696'}\n",
      "{'gene': 'tet(Q)', 'drug': 'minocycline', 'drug_class': 'tetracycline', 'identity': 97.16640906749099, 'coverage': 99.79231568016614, 'ref_acc': 'L33696'}\n",
      "{'gene': 'tet(Q)', 'drug': 'minocycline', 'drug_class': 'tetracycline', 'identity': 98.03386127799017, 'coverage': 94.39252336448598, 'ref_acc': 'L33696'}\n",
      "{'gene': 'tet(Q)', 'drug': 'minocycline', 'drug_class': 'tetracycline', 'identity': 97.94480328831474, 'coverage': 87.33125649013499, 'ref_acc': 'L33696'}\n",
      "{'gene': 'tet(Q)', 'drug': 'minocycline', 'drug_class': 'tetracycline', 'identity': 97.41060419235512, 'coverage': 82.91796469366562, 'ref_acc': 'Z21523'}\n",
      "{'gene': 'tet(44)', 'drug': 'minocycline', 'drug_class': 'tetracycline', 'identity': 96.83377308707124, 'coverage': 77.69110764430577, 'ref_acc': 'FN594949'}\n",
      "{'gene': 'erm(B)', 'drug': 'quinupristin', 'drug_class': 'streptogramin b', 'identity': 96.21109607577807, 'coverage': 98.3739837398374, 'ref_acc': 'U86375'}\n",
      "{'gene': 'erm(B)', 'drug': 'pristinamycin ia', 'drug_class': 'streptogramin b', 'identity': 96.21109607577807, 'coverage': 98.3739837398374, 'ref_acc': 'U86375'}\n",
      "{'gene': 'erm(B)', 'drug': 'virginiamycin s', 'drug_class': 'streptogramin b', 'identity': 96.21109607577807, 'coverage': 98.3739837398374, 'ref_acc': 'U86375'}\n"
     ]
    }
   ],
   "execution_count": 54
  },
  {
   "metadata": {
    "ExecuteTime": {
     "end_time": "2025-04-16T21:41:25.133025Z",
     "start_time": "2025-04-16T21:41:25.130460Z"
    }
   },
   "cell_type": "code",
   "source": "len(genes)",
   "id": "2d34a366265f0402",
   "outputs": [
    {
     "data": {
      "text/plain": [
       "67"
      ]
     },
     "execution_count": 55,
     "metadata": {},
     "output_type": "execute_result"
    }
   ],
   "execution_count": 55
  },
  {
   "metadata": {
    "ExecuteTime": {
     "end_time": "2025-04-16T21:43:43.653694Z",
     "start_time": "2025-04-16T21:43:43.650481Z"
    }
   },
   "cell_type": "code",
   "source": "len(mutations)",
   "id": "2b8bb95bad761599",
   "outputs": [
    {
     "data": {
      "text/plain": [
       "0"
      ]
     },
     "execution_count": 56,
     "metadata": {},
     "output_type": "execute_result"
    }
   ],
   "execution_count": 56
  },
  {
   "metadata": {
    "ExecuteTime": {
     "end_time": "2025-04-16T22:17:29.293607Z",
     "start_time": "2025-04-16T22:17:29.285812Z"
    }
   },
   "cell_type": "code",
   "source": [
    "def parse_resfinder_json_2(path):\n",
    "    with open(path) as f:\n",
    "        data = json.load(f)\n",
    "\n",
    "    genes = []\n",
    "    mutations = []\n",
    "\n",
    "    # Get helper dicts\n",
    "    phenotypes = data.get(\"phenotypes\", {})\n",
    "    regions = data.get(\"seq_regions\", {})\n",
    "    variations = data.get(\"seq_variations\", {})\n",
    "\n",
    "    # Maps to store gene and mutation information\n",
    "    region_info = {}\n",
    "    variation_info = {}\n",
    "\n",
    "    # --- Loop through all phenotypes ---\n",
    "    for p in phenotypes.values():\n",
    "        drug = p.get(\"amr_resistance\", \"unknown\")\n",
    "        drug_class = \", \".join(p.get(\"amr_classes\", []))\n",
    "        resistance = p.get(\"amr_resistant\", \"unknown\")  # Directly using the value of amr_resistant\n",
    "        grade = p.get(\"grade\", \"unknown\")  # Fetching the grade information\n",
    "\n",
    "        # Debugging output to check the values\n",
    "        print(\"amr_resistant:\", resistance)\n",
    "\n",
    "        # --- Loop through seq_regions in phenotypes ---\n",
    "        for region_key in p.get(\"seq_regions\", []):\n",
    "            if region_key not in region_info:\n",
    "                region_info[region_key] = {\n",
    "                    \"drugs\": set(),\n",
    "                    \"drug_classes\": set(),\n",
    "                    \"resistance\": resistance,\n",
    "                    \"grade\": grade,  # Adding grade information\n",
    "                    \"gene\": regions.get(region_key, {}).get(\"name\", \"unknown\"),\n",
    "                    \"identity\": regions.get(region_key, {}).get(\"identity\", \"unknown\"),\n",
    "                    \"coverage\": regions.get(region_key, {}).get(\"coverage\", \"unknown\"),\n",
    "                    \"ref_acc\": regions.get(region_key, {}).get(\"ref_acc\", \"unknown\"),\n",
    "                }\n",
    "\n",
    "            # Add drug, drug class, predicted resistance, and grade to the respective sets\n",
    "            region_info[region_key][\"drugs\"].add(drug)\n",
    "            region_info[region_key][\"drug_classes\"].add(drug_class)\n",
    "\n",
    "        # --- Loop through seq_variations in phenotypes ---\n",
    "        for variation_key in p.get(\"seq_variations\", []):\n",
    "            for region_key in variations.get(variation_key, {}).get(\"seq_regions\", []):\n",
    "                if region_key not in variation_info:\n",
    "                    variation_info[region_key] = {\n",
    "                        \"drugs\": set(),\n",
    "                        \"drug_classes\": set(),\n",
    "                        \"resistance\": resistance,\n",
    "                        \"grade\": grade,  # Adding grade information\n",
    "                        \"gene\": regions.get(region_key, {}).get(\"name\", \"unknown\"),\n",
    "                        \"identity\": regions.get(region_key, {}).get(\"identity\", \"unknown\"),\n",
    "                        \"coverage\": regions.get(region_key, {}).get(\"coverage\", \"unknown\"),\n",
    "                        \"ref_acc\": regions.get(region_key, {}).get(\"ref_acc\", \"unknown\"),\n",
    "                    }\n",
    "\n",
    "                # Add drug, drug class, and predicted resistance to the respective sets\n",
    "                variation_info[region_key][\"drugs\"].add(drug)\n",
    "                variation_info[region_key][\"drug_classes\"].add(drug_class)\n",
    "\n",
    "    # --- Now prepare final result for genes and mutations ---\n",
    "    for region_key, info in region_info.items():\n",
    "        genes.append({\n",
    "            \"gene\": info[\"gene\"],\n",
    "            \"drug\": \", \".join(info[\"drugs\"]),  # Combine all drugs into one string\n",
    "            \"drug_class\": \", \".join(info[\"drug_classes\"]),  # Combine all drug classes into one string\n",
    "            \"resistance\": info[\"resistance\"],  # Convert to string\n",
    "            \"grade\": info[\"grade\"],  # Adding grade information here\n",
    "            \"identity\": info[\"identity\"],\n",
    "            \"coverage\": info[\"coverage\"],\n",
    "            \"ref_acc\": info[\"ref_acc\"],\n",
    "        })\n",
    "\n",
    "    for region_key, info in variation_info.items():\n",
    "        mutations.append({\n",
    "            \"mutation\": \", \".join(info[\"drugs\"]),  # Combine all drugs into one string\n",
    "            \"codon_change\": \", \".join(info[\"drug_classes\"]),  # Combine all drug classes into one string\n",
    "            \"resistance\": info[\"resistance\"],  # Convert to string\n",
    "            \"grade\": info[\"grade\"],  # Adding grade information here\n",
    "            \"gene\": info[\"gene\"],\n",
    "            \"drug\": \", \".join(info[\"drugs\"]),  # Combine all drugs into one string\n",
    "            \"drug_class\": \", \".join(info[\"drug_classes\"]),  # Combine all drug classes into one string\n",
    "        })\n",
    "\n",
    "    return genes, mutations\n"
   ],
   "id": "f3867f608224425",
   "outputs": [],
   "execution_count": 83
  },
  {
   "metadata": {
    "ExecuteTime": {
     "end_time": "2025-04-16T22:17:29.508509Z",
     "start_time": "2025-04-16T22:17:29.505429Z"
    }
   },
   "cell_type": "code",
   "source": [
    "genes, mutations = parse_resfinder_json_2(\"/Users/edwardbird/Documents/GitHub/edwardbirdlab-tools/test_data/Testing_SQLite/RESFINDER/NIFP2402612/NIFP2402612_allclass.json\")\n",
    "\n",
    "# Print gene results\n",
    "for g in genes:\n",
    "    print(g)\n",
    "\n",
    "# Print mutations\n",
    "for m in mutations:\n",
    "    print(m)"
   ],
   "id": "df18133cd05d3668",
   "outputs": [
    {
     "name": "stdout",
     "output_type": "stream",
     "text": [
      "amr_resistant: False\n",
      "amr_resistant: False\n",
      "amr_resistant: True\n",
      "amr_resistant: True\n",
      "amr_resistant: True\n",
      "amr_resistant: False\n",
      "amr_resistant: True\n",
      "amr_resistant: True\n",
      "amr_resistant: True\n",
      "amr_resistant: True\n",
      "amr_resistant: True\n",
      "amr_resistant: False\n",
      "amr_resistant: False\n",
      "amr_resistant: True\n",
      "amr_resistant: False\n",
      "amr_resistant: False\n",
      "amr_resistant: False\n",
      "amr_resistant: False\n",
      "amr_resistant: False\n",
      "amr_resistant: False\n",
      "amr_resistant: False\n",
      "amr_resistant: False\n",
      "amr_resistant: True\n",
      "amr_resistant: False\n",
      "amr_resistant: True\n",
      "amr_resistant: False\n",
      "amr_resistant: False\n",
      "amr_resistant: False\n",
      "amr_resistant: False\n",
      "amr_resistant: True\n",
      "amr_resistant: False\n",
      "amr_resistant: False\n",
      "amr_resistant: False\n",
      "amr_resistant: False\n",
      "amr_resistant: True\n",
      "amr_resistant: False\n",
      "amr_resistant: False\n",
      "amr_resistant: False\n",
      "amr_resistant: False\n",
      "amr_resistant: False\n",
      "amr_resistant: False\n",
      "amr_resistant: True\n",
      "amr_resistant: False\n",
      "amr_resistant: False\n",
      "amr_resistant: False\n",
      "amr_resistant: False\n",
      "amr_resistant: False\n",
      "amr_resistant: False\n",
      "amr_resistant: False\n",
      "amr_resistant: False\n",
      "amr_resistant: False\n",
      "amr_resistant: False\n",
      "amr_resistant: False\n",
      "amr_resistant: False\n",
      "amr_resistant: False\n",
      "amr_resistant: False\n",
      "amr_resistant: False\n",
      "amr_resistant: False\n",
      "amr_resistant: False\n",
      "amr_resistant: True\n",
      "amr_resistant: True\n",
      "amr_resistant: False\n",
      "amr_resistant: False\n",
      "amr_resistant: False\n",
      "amr_resistant: False\n",
      "amr_resistant: False\n",
      "amr_resistant: False\n",
      "amr_resistant: True\n",
      "amr_resistant: True\n",
      "amr_resistant: False\n",
      "amr_resistant: False\n",
      "amr_resistant: False\n",
      "amr_resistant: False\n",
      "amr_resistant: True\n",
      "amr_resistant: True\n",
      "amr_resistant: True\n",
      "amr_resistant: False\n",
      "amr_resistant: True\n",
      "amr_resistant: True\n",
      "amr_resistant: True\n",
      "amr_resistant: False\n",
      "amr_resistant: False\n",
      "amr_resistant: False\n",
      "amr_resistant: False\n",
      "amr_resistant: False\n",
      "amr_resistant: False\n",
      "amr_resistant: False\n",
      "amr_resistant: False\n",
      "amr_resistant: False\n",
      "amr_resistant: False\n",
      "amr_resistant: False\n",
      "{'gene': 'aadA1', 'drug': 'spectinomycin, streptomycin', 'drug_class': 'aminoglycoside, aminocyclitol', 'resistance': True, 'grade': 1, 'identity': 98.23232323232324, 'coverage': 99.49302915082383, 'ref_acc': 'JQ480156'}\n",
      "{'gene': 'ant(6)-Ia', 'drug': 'streptomycin', 'drug_class': 'aminoglycoside', 'resistance': True, 'grade': 1, 'identity': 97.14599341383095, 'coverage': 98.45984598459846, 'ref_acc': 'AF330699'}\n",
      "{'gene': \"aph(3')-III\", 'drug': 'paromomycin, isepamicin, neomycin, lividomycin, kanamycin, amikacin, butirosin, ribostamycin', 'drug_class': 'aminoglycoside', 'resistance': True, 'grade': 1, 'identity': 97.24310776942356, 'coverage': 99.11949685534591, 'ref_acc': 'M26832'}\n",
      "{'gene': \"aph(3')-III\", 'drug': 'paromomycin, isepamicin, neomycin, lividomycin, kanamycin, amikacin, butirosin, ribostamycin', 'drug_class': 'aminoglycoside', 'resistance': True, 'grade': 1, 'identity': 98.6232790988736, 'coverage': 99.87421383647799, 'ref_acc': 'M26832'}\n",
      "{'gene': 'qnrD3', 'drug': 'ciprofloxacin', 'drug_class': 'quinolone', 'resistance': True, 'grade': 1, 'identity': 98.45201238390094, 'coverage': 99.53488372093024, 'ref_acc': 'KX130945'}\n",
      "{'gene': 'qnrD3', 'drug': 'ciprofloxacin', 'drug_class': 'quinolone', 'resistance': True, 'grade': 1, 'identity': 99.22600619195046, 'coverage': 99.84496124031008, 'ref_acc': 'KX130945'}\n",
      "{'gene': 'qnrD3', 'drug': 'ciprofloxacin', 'drug_class': 'quinolone', 'resistance': True, 'grade': 1, 'identity': 98.2998454404946, 'coverage': 99.84496124031008, 'ref_acc': 'KX130945'}\n",
      "{'gene': 'cfxA3', 'drug': 'ampicillin', 'drug_class': 'beta-lactam', 'resistance': True, 'grade': 1, 'identity': 86.77966101694915, 'coverage': 60.86956521739131, 'ref_acc': 'AF472622'}\n",
      "{'gene': 'cfxA', 'drug': 'cefoxitin, ampicillin', 'drug_class': 'beta-lactam', 'resistance': True, 'grade': 1, 'identity': 86.77966101694915, 'coverage': 60.86956521739131, 'ref_acc': 'U38243'}\n",
      "{'gene': 'cfxA5', 'drug': 'unknown beta-lactam', 'drug_class': 'beta-lactam', 'resistance': True, 'grade': 1, 'identity': 86.77966101694915, 'coverage': 60.86956521739131, 'ref_acc': 'AY769934'}\n",
      "{'gene': 'cfxA4', 'drug': 'unknown beta-lactam', 'drug_class': 'beta-lactam', 'resistance': True, 'grade': 1, 'identity': 86.77966101694915, 'coverage': 60.86956521739131, 'ref_acc': 'AY769933'}\n",
      "{'gene': 'cfxA2', 'drug': 'unknown beta-lactam', 'drug_class': 'beta-lactam', 'resistance': True, 'grade': 1, 'identity': 86.77966101694915, 'coverage': 60.86956521739131, 'ref_acc': 'AF504914'}\n",
      "{'gene': 'lnu(C)', 'drug': 'lincomycin', 'drug_class': 'lincosamide', 'resistance': True, 'grade': 2, 'identity': 91.38276553106212, 'coverage': 100.0, 'ref_acc': 'AY928180'}\n",
      "{'gene': 'erm(B)', 'drug': 'virginiamycin s, lincomycin, quinupristin, erythromycin, clindamycin, pristinamycin ia', 'drug_class': 'lincosamide, streptogramin b, macrolide', 'resistance': True, 'grade': 2, 'identity': 96.21109607577807, 'coverage': 98.3739837398374, 'ref_acc': 'U86375'}\n",
      "{'gene': 'mef(A)', 'drug': 'azithromycin, erythromycin', 'drug_class': 'macrolide', 'resistance': True, 'grade': 1, 'identity': 92.50585480093677, 'coverage': 68.80131362889983, 'ref_acc': 'AF227520'}\n",
      "{'gene': 'mef(A)', 'drug': 'azithromycin, erythromycin', 'drug_class': 'macrolide', 'resistance': True, 'grade': 1, 'identity': 93.62745098039215, 'coverage': 99.83579638752053, 'ref_acc': 'AF227520'}\n",
      "{'gene': 'mef(A)', 'drug': 'azithromycin, erythromycin', 'drug_class': 'macrolide', 'resistance': True, 'grade': 1, 'identity': 94.0628637951106, 'coverage': 70.03284072249589, 'ref_acc': 'AF227520'}\n",
      "{'gene': 'tet(Q)', 'drug': 'doxycycline, tetracycline, minocycline', 'drug_class': 'tetracycline', 'resistance': True, 'grade': 1, 'identity': 97.76179056754596, 'coverage': 64.27829698857737, 'ref_acc': 'L33696'}\n",
      "{'gene': 'tet(Q)', 'drug': 'doxycycline, tetracycline, minocycline', 'drug_class': 'tetracycline', 'resistance': True, 'grade': 1, 'identity': 95.98352214212153, 'coverage': 99.11734164070613, 'ref_acc': 'L33696'}\n",
      "{'gene': 'tet(Q)', 'drug': 'doxycycline, tetracycline, minocycline', 'drug_class': 'tetracycline', 'resistance': True, 'grade': 1, 'identity': 97.61658031088083, 'coverage': 99.5846313603323, 'ref_acc': 'L33696'}\n",
      "{'gene': 'tet(Q)', 'drug': 'doxycycline, tetracycline, minocycline', 'drug_class': 'tetracycline', 'resistance': True, 'grade': 1, 'identity': 97.16640906749099, 'coverage': 99.79231568016614, 'ref_acc': 'L33696'}\n",
      "{'gene': 'tet(Q)', 'drug': 'doxycycline, tetracycline, minocycline', 'drug_class': 'tetracycline', 'resistance': True, 'grade': 1, 'identity': 98.03386127799017, 'coverage': 94.39252336448598, 'ref_acc': 'L33696'}\n",
      "{'gene': 'tet(Q)', 'drug': 'doxycycline, tetracycline, minocycline', 'drug_class': 'tetracycline', 'resistance': True, 'grade': 1, 'identity': 97.94480328831474, 'coverage': 87.33125649013499, 'ref_acc': 'L33696'}\n",
      "{'gene': 'tet(Q)', 'drug': 'doxycycline, tetracycline, minocycline', 'drug_class': 'tetracycline', 'resistance': True, 'grade': 1, 'identity': 97.41060419235512, 'coverage': 82.91796469366562, 'ref_acc': 'Z21523'}\n",
      "{'gene': 'tet(40)', 'drug': 'doxycycline, tetracycline', 'drug_class': 'tetracycline', 'resistance': True, 'grade': 1, 'identity': 96.85966633954858, 'coverage': 81.9000819000819, 'ref_acc': 'FJ158002'}\n",
      "{'gene': 'tet(44)', 'drug': 'doxycycline, tetracycline, minocycline', 'drug_class': 'tetracycline', 'resistance': True, 'grade': 1, 'identity': 96.83377308707124, 'coverage': 77.69110764430577, 'ref_acc': 'FN594949'}\n"
     ]
    }
   ],
   "execution_count": 84
  },
  {
   "metadata": {
    "ExecuteTime": {
     "end_time": "2025-04-16T21:52:47.743157Z",
     "start_time": "2025-04-16T21:52:47.740386Z"
    }
   },
   "cell_type": "code",
   "source": "len(genes)",
   "id": "df2ceb64c9843caf",
   "outputs": [
    {
     "data": {
      "text/plain": [
       "26"
      ]
     },
     "execution_count": 64,
     "metadata": {},
     "output_type": "execute_result"
    }
   ],
   "execution_count": 64
  },
  {
   "metadata": {
    "ExecuteTime": {
     "end_time": "2025-04-17T01:16:44.092677Z",
     "start_time": "2025-04-17T01:16:44.086050Z"
    }
   },
   "cell_type": "code",
   "source": [
    "# Load index-to-column mapping\n",
    "with open(\"conf/abstraction_layers/resfinder_pheno_abstraction.json\", \"r\") as f:\n",
    "    column_map = json.load(f)\n",
    "\n",
    "# Build the column names in order\n",
    "ordered_column_names = [None] * len(column_map)\n",
    "for name, index in column_map.items():\n",
    "    ordered_column_names[index] = name\n",
    "\n",
    "# Read the ResFinder table\n",
    "testing_phenotype_df = pd.read_csv(\n",
    "    \"test_data/Testing_SQLite/RESFINDER/NIFP2402612/pheno_table.txt\",\n",
    "    sep=\"\\t\",\n",
    "    comment=\"#\",\n",
    "    header=None,\n",
    "    names=ordered_column_names\n",
    ")\n",
    "\n",
    "testing_phenotype_df.head()"
   ],
   "id": "26fa38f2ec8d6050",
   "outputs": [
    {
     "data": {
      "text/plain": [
       "     antibiotic      drug_class wgs_predicted_phenotype  match_level  \\\n",
       "0    gentamicin  aminoglycoside           No resistance            0   \n",
       "1    tobramycin  aminoglycoside           No resistance            0   \n",
       "2  streptomycin  aminoglycoside               Resistant            1   \n",
       "3      amikacin  aminoglycoside               Resistant            1   \n",
       "4    isepamicin  aminoglycoside               Resistant            1   \n",
       "\n",
       "                                  genetic_background  \n",
       "0                                                NaN  \n",
       "1                                                NaN  \n",
       "2  aadA1 (aadA1_JQ480156), ant(6)-Ia (ant(6)-Ia_A...  \n",
       "3                   aph(3')-III (aph(3')-III_M26832)  \n",
       "4                   aph(3')-III (aph(3')-III_M26832)  "
      ],
      "text/html": [
       "<div>\n",
       "<style scoped>\n",
       "    .dataframe tbody tr th:only-of-type {\n",
       "        vertical-align: middle;\n",
       "    }\n",
       "\n",
       "    .dataframe tbody tr th {\n",
       "        vertical-align: top;\n",
       "    }\n",
       "\n",
       "    .dataframe thead th {\n",
       "        text-align: right;\n",
       "    }\n",
       "</style>\n",
       "<table border=\"1\" class=\"dataframe\">\n",
       "  <thead>\n",
       "    <tr style=\"text-align: right;\">\n",
       "      <th></th>\n",
       "      <th>antibiotic</th>\n",
       "      <th>drug_class</th>\n",
       "      <th>wgs_predicted_phenotype</th>\n",
       "      <th>match_level</th>\n",
       "      <th>genetic_background</th>\n",
       "    </tr>\n",
       "  </thead>\n",
       "  <tbody>\n",
       "    <tr>\n",
       "      <th>0</th>\n",
       "      <td>gentamicin</td>\n",
       "      <td>aminoglycoside</td>\n",
       "      <td>No resistance</td>\n",
       "      <td>0</td>\n",
       "      <td>NaN</td>\n",
       "    </tr>\n",
       "    <tr>\n",
       "      <th>1</th>\n",
       "      <td>tobramycin</td>\n",
       "      <td>aminoglycoside</td>\n",
       "      <td>No resistance</td>\n",
       "      <td>0</td>\n",
       "      <td>NaN</td>\n",
       "    </tr>\n",
       "    <tr>\n",
       "      <th>2</th>\n",
       "      <td>streptomycin</td>\n",
       "      <td>aminoglycoside</td>\n",
       "      <td>Resistant</td>\n",
       "      <td>1</td>\n",
       "      <td>aadA1 (aadA1_JQ480156), ant(6)-Ia (ant(6)-Ia_A...</td>\n",
       "    </tr>\n",
       "    <tr>\n",
       "      <th>3</th>\n",
       "      <td>amikacin</td>\n",
       "      <td>aminoglycoside</td>\n",
       "      <td>Resistant</td>\n",
       "      <td>1</td>\n",
       "      <td>aph(3')-III (aph(3')-III_M26832)</td>\n",
       "    </tr>\n",
       "    <tr>\n",
       "      <th>4</th>\n",
       "      <td>isepamicin</td>\n",
       "      <td>aminoglycoside</td>\n",
       "      <td>Resistant</td>\n",
       "      <td>1</td>\n",
       "      <td>aph(3')-III (aph(3')-III_M26832)</td>\n",
       "    </tr>\n",
       "  </tbody>\n",
       "</table>\n",
       "</div>"
      ]
     },
     "execution_count": 128,
     "metadata": {},
     "output_type": "execute_result"
    }
   ],
   "execution_count": 128
  },
  {
   "metadata": {},
   "cell_type": "code",
   "outputs": [],
   "execution_count": null,
   "source": "",
   "id": "6d5b25dff7417292"
  },
  {
   "metadata": {
    "ExecuteTime": {
     "end_time": "2025-04-17T01:16:46.951519Z",
     "start_time": "2025-04-17T01:16:46.948704Z"
    }
   },
   "cell_type": "code",
   "source": [
    "def split_genetic_background(value):\n",
    "    if pd.isna(value):\n",
    "        return None, None  # Return None for both if NaN\n",
    "\n",
    "    # Split by commas if multiple gene-reference pairs\n",
    "    pairs = value.split(\", \")\n",
    "\n",
    "    # Initialize lists to store genes and references\n",
    "    genes = []\n",
    "    references = []\n",
    "\n",
    "    # Loop over each gene-reference pair\n",
    "    for pair in pairs:\n",
    "        seqs = pair.split(\" \")\n",
    "        gene = seqs[0]\n",
    "        reference = seqs[1].split(gene + '_')[1][:-1]\n",
    "        genes.append(gene)\n",
    "        references.append(reference)\n",
    "\n",
    "    return genes, references"
   ],
   "id": "f91fe033afeef80d",
   "outputs": [],
   "execution_count": 129
  },
  {
   "metadata": {
    "ExecuteTime": {
     "end_time": "2025-04-17T01:17:10.213584Z",
     "start_time": "2025-04-17T01:17:10.204165Z"
    }
   },
   "cell_type": "code",
   "source": [
    "\n",
    "# Apply the function to split the \"genetic_background\" column\n",
    "testing_phenotype_df[['genes', 'references']] = testing_phenotype_df['genetic_background'].apply(lambda x: pd.Series(split_genetic_background(x)))\n",
    "\n",
    "# Display the resulting DataFrame\n",
    "testing_phenotype_df.head(300)"
   ],
   "id": "d576ddea5f1aa936",
   "outputs": [
    {
     "data": {
      "text/plain": [
       "       antibiotic      drug_class wgs_predicted_phenotype  match_level  \\\n",
       "0      gentamicin  aminoglycoside           No resistance            0   \n",
       "1      tobramycin  aminoglycoside           No resistance            0   \n",
       "2    streptomycin  aminoglycoside               Resistant            1   \n",
       "3        amikacin  aminoglycoside               Resistant            1   \n",
       "4      isepamicin  aminoglycoside               Resistant            1   \n",
       "..            ...             ...                     ...          ...   \n",
       "86     rifampicin       rifamycin           No resistance            0   \n",
       "87  metronidazole  nitroimidazole           No resistance            0   \n",
       "88        narasin      ionophores           No resistance            0   \n",
       "89    salinomycin      ionophores           No resistance            0   \n",
       "90    maduramicin      ionophores           No resistance            0   \n",
       "\n",
       "                                   genetic_background               genes  \\\n",
       "0                                                 NaN                None   \n",
       "1                                                 NaN                None   \n",
       "2   aadA1 (aadA1_JQ480156), ant(6)-Ia (ant(6)-Ia_A...  [aadA1, ant(6)-Ia]   \n",
       "3                    aph(3')-III (aph(3')-III_M26832)       [aph(3')-III]   \n",
       "4                    aph(3')-III (aph(3')-III_M26832)       [aph(3')-III]   \n",
       "..                                                ...                 ...   \n",
       "86                                                NaN                None   \n",
       "87                                                NaN                None   \n",
       "88                                                NaN                None   \n",
       "89                                                NaN                None   \n",
       "90                                                NaN                None   \n",
       "\n",
       "              references  \n",
       "0                   None  \n",
       "1                   None  \n",
       "2   [JQ480156, AF330699]  \n",
       "3               [M26832]  \n",
       "4               [M26832]  \n",
       "..                   ...  \n",
       "86                  None  \n",
       "87                  None  \n",
       "88                  None  \n",
       "89                  None  \n",
       "90                  None  \n",
       "\n",
       "[91 rows x 7 columns]"
      ],
      "text/html": [
       "<div>\n",
       "<style scoped>\n",
       "    .dataframe tbody tr th:only-of-type {\n",
       "        vertical-align: middle;\n",
       "    }\n",
       "\n",
       "    .dataframe tbody tr th {\n",
       "        vertical-align: top;\n",
       "    }\n",
       "\n",
       "    .dataframe thead th {\n",
       "        text-align: right;\n",
       "    }\n",
       "</style>\n",
       "<table border=\"1\" class=\"dataframe\">\n",
       "  <thead>\n",
       "    <tr style=\"text-align: right;\">\n",
       "      <th></th>\n",
       "      <th>antibiotic</th>\n",
       "      <th>drug_class</th>\n",
       "      <th>wgs_predicted_phenotype</th>\n",
       "      <th>match_level</th>\n",
       "      <th>genetic_background</th>\n",
       "      <th>genes</th>\n",
       "      <th>references</th>\n",
       "    </tr>\n",
       "  </thead>\n",
       "  <tbody>\n",
       "    <tr>\n",
       "      <th>0</th>\n",
       "      <td>gentamicin</td>\n",
       "      <td>aminoglycoside</td>\n",
       "      <td>No resistance</td>\n",
       "      <td>0</td>\n",
       "      <td>NaN</td>\n",
       "      <td>None</td>\n",
       "      <td>None</td>\n",
       "    </tr>\n",
       "    <tr>\n",
       "      <th>1</th>\n",
       "      <td>tobramycin</td>\n",
       "      <td>aminoglycoside</td>\n",
       "      <td>No resistance</td>\n",
       "      <td>0</td>\n",
       "      <td>NaN</td>\n",
       "      <td>None</td>\n",
       "      <td>None</td>\n",
       "    </tr>\n",
       "    <tr>\n",
       "      <th>2</th>\n",
       "      <td>streptomycin</td>\n",
       "      <td>aminoglycoside</td>\n",
       "      <td>Resistant</td>\n",
       "      <td>1</td>\n",
       "      <td>aadA1 (aadA1_JQ480156), ant(6)-Ia (ant(6)-Ia_A...</td>\n",
       "      <td>[aadA1, ant(6)-Ia]</td>\n",
       "      <td>[JQ480156, AF330699]</td>\n",
       "    </tr>\n",
       "    <tr>\n",
       "      <th>3</th>\n",
       "      <td>amikacin</td>\n",
       "      <td>aminoglycoside</td>\n",
       "      <td>Resistant</td>\n",
       "      <td>1</td>\n",
       "      <td>aph(3')-III (aph(3')-III_M26832)</td>\n",
       "      <td>[aph(3')-III]</td>\n",
       "      <td>[M26832]</td>\n",
       "    </tr>\n",
       "    <tr>\n",
       "      <th>4</th>\n",
       "      <td>isepamicin</td>\n",
       "      <td>aminoglycoside</td>\n",
       "      <td>Resistant</td>\n",
       "      <td>1</td>\n",
       "      <td>aph(3')-III (aph(3')-III_M26832)</td>\n",
       "      <td>[aph(3')-III]</td>\n",
       "      <td>[M26832]</td>\n",
       "    </tr>\n",
       "    <tr>\n",
       "      <th>...</th>\n",
       "      <td>...</td>\n",
       "      <td>...</td>\n",
       "      <td>...</td>\n",
       "      <td>...</td>\n",
       "      <td>...</td>\n",
       "      <td>...</td>\n",
       "      <td>...</td>\n",
       "    </tr>\n",
       "    <tr>\n",
       "      <th>86</th>\n",
       "      <td>rifampicin</td>\n",
       "      <td>rifamycin</td>\n",
       "      <td>No resistance</td>\n",
       "      <td>0</td>\n",
       "      <td>NaN</td>\n",
       "      <td>None</td>\n",
       "      <td>None</td>\n",
       "    </tr>\n",
       "    <tr>\n",
       "      <th>87</th>\n",
       "      <td>metronidazole</td>\n",
       "      <td>nitroimidazole</td>\n",
       "      <td>No resistance</td>\n",
       "      <td>0</td>\n",
       "      <td>NaN</td>\n",
       "      <td>None</td>\n",
       "      <td>None</td>\n",
       "    </tr>\n",
       "    <tr>\n",
       "      <th>88</th>\n",
       "      <td>narasin</td>\n",
       "      <td>ionophores</td>\n",
       "      <td>No resistance</td>\n",
       "      <td>0</td>\n",
       "      <td>NaN</td>\n",
       "      <td>None</td>\n",
       "      <td>None</td>\n",
       "    </tr>\n",
       "    <tr>\n",
       "      <th>89</th>\n",
       "      <td>salinomycin</td>\n",
       "      <td>ionophores</td>\n",
       "      <td>No resistance</td>\n",
       "      <td>0</td>\n",
       "      <td>NaN</td>\n",
       "      <td>None</td>\n",
       "      <td>None</td>\n",
       "    </tr>\n",
       "    <tr>\n",
       "      <th>90</th>\n",
       "      <td>maduramicin</td>\n",
       "      <td>ionophores</td>\n",
       "      <td>No resistance</td>\n",
       "      <td>0</td>\n",
       "      <td>NaN</td>\n",
       "      <td>None</td>\n",
       "      <td>None</td>\n",
       "    </tr>\n",
       "  </tbody>\n",
       "</table>\n",
       "<p>91 rows × 7 columns</p>\n",
       "</div>"
      ]
     },
     "execution_count": 131,
     "metadata": {},
     "output_type": "execute_result"
    }
   ],
   "execution_count": 131
  },
  {
   "metadata": {
    "ExecuteTime": {
     "end_time": "2025-04-17T01:17:40.108188Z",
     "start_time": "2025-04-17T01:17:40.096553Z"
    }
   },
   "cell_type": "code",
   "source": [
    "# Load the column name mapping\n",
    "with open(\"conf/abstraction_layers/resfinder_hits_abstraction.json\", \"r\") as f:\n",
    "    column_map = json.load(f)\n",
    "\n",
    "# Read the TSV (with header)\n",
    "testing_hits_df = pd.read_csv(\"test_data/Testing_SQLite/RESFINDER/NIFP2402612/ResFinder_results_tab.txt\", sep=\"\\t\")\n",
    "\n",
    "# Rename columns using the map\n",
    "testing_hits_df.rename(columns=column_map, inplace=True)\n",
    "\n",
    "# Split the 'contig_position' column into 'start_position' and 'stop_position'\n",
    "testing_hits_df[['start_position', 'stop_position']] = testing_hits_df['contig_position'].str.split(r\"\\.\\.\", expand=True).astype(int)\n",
    "\n",
    "testing_hits_df.head(90)"
   ],
   "id": "92aaafb86fd87c93",
   "outputs": [
    {
     "data": {
      "text/plain": [
       "   resistance_gene  identity alignment_vs_gene_length    coverage  \\\n",
       "0            aadA1     98.23                  792/789   99.493029   \n",
       "1        ant(6)-Ia     97.15                  911/909   98.459846   \n",
       "2      aph(3')-III     97.24                  798/795   99.119497   \n",
       "3      aph(3')-III     98.62                  799/795   99.874214   \n",
       "4            cfxA5     86.78                  590/966   60.869565   \n",
       "5            cfxA4     86.78                  590/966   60.869565   \n",
       "6            cfxA3     86.78                  590/966   60.869565   \n",
       "7            cfxA2     86.78                  590/966   60.869565   \n",
       "8             cfxA     86.78                  590/966   60.869565   \n",
       "9           mef(A)     92.51                 854/1218   68.801314   \n",
       "10          mef(A)     93.63                1224/1218   99.835796   \n",
       "11          lnu(C)     91.38                  499/495  100.000000   \n",
       "12          mef(A)     94.06                 859/1218   70.032841   \n",
       "13          erm(B)     96.21                  739/738   98.373984   \n",
       "14           qnrD3     98.45                  646/645   99.534884   \n",
       "15           qnrD3     99.23                  646/645   99.844961   \n",
       "16           qnrD3     98.30                  647/645   99.844961   \n",
       "17          tet(Q)     97.76                1251/1926   64.278297   \n",
       "18          tet(Q)     95.98                1942/1926   99.117342   \n",
       "19          tet(Q)     97.62                1930/1926   99.584631   \n",
       "20          tet(Q)     97.17                1941/1926   99.792316   \n",
       "21          tet(Q)     97.41                1622/1926   82.917965   \n",
       "22         tet(40)     96.86                1019/1221   81.900082   \n",
       "23          tet(Q)     98.03                1831/1926   94.392523   \n",
       "24         tet(44)     96.83                1516/1923   77.691108   \n",
       "25          tet(Q)     97.94                1703/1926   87.331256   \n",
       "\n",
       "   reference_position                                          contig_id  \\\n",
       "0              1..789  PLAS_P:0.674|C:0.326_7dc2184f-d64d-406a-8889-1...   \n",
       "1              1..909  PLAS_P:0.546|C:0.454_cd01ab1e-6bd0-4f3c-826e-3...   \n",
       "2              1..795  PLAS_P:0.546|C:0.454_cd01ab1e-6bd0-4f3c-826e-3...   \n",
       "3              1..795  CHROMO_P:0.156|C:0.844_0b206394-1c46-4fd8-9150...   \n",
       "4            365..953  PLAS_P:0.842|C:0.158_781834e3-5c9e-4188-8760-4...   \n",
       "5            365..953  PLAS_P:0.842|C:0.158_781834e3-5c9e-4188-8760-4...   \n",
       "6            365..953  PLAS_P:0.842|C:0.158_781834e3-5c9e-4188-8760-4...   \n",
       "7            365..953  PLAS_P:0.842|C:0.158_781834e3-5c9e-4188-8760-4...   \n",
       "8            365..953  PLAS_P:0.842|C:0.158_781834e3-5c9e-4188-8760-4...   \n",
       "9           371..1218  PLAS_P:0.542|C:0.458_3e3ebdde-6338-4ad9-b84d-0...   \n",
       "10            1..1218  PLAS_P:0.546|C:0.454_cd01ab1e-6bd0-4f3c-826e-3...   \n",
       "11             1..495  PLAS_P:0.802|C:0.198_e8215b15-5540-4e50-9297-0...   \n",
       "12          361..1218  PLAS_P:0.828|C:0.172_fb71f21b-6c9c-4b15-bfb3-e...   \n",
       "13             4..738  CHROMO_P:0.156|C:0.844_0b206394-1c46-4fd8-9150...   \n",
       "14             1..645  PLAS_P:0.858|C:0.142_04dce0c9-6a26-44b9-a50b-9...   \n",
       "15             1..645  PLAS_P:0.664|C:0.336_94c43e8d-e23e-4f45-8f7c-a...   \n",
       "16             1..645  PLAS_P:0.66|C:0.34_fc2fb35b-1805-46f1-86cb-474...   \n",
       "17            1..1249  PLAS_P:0.812|C:0.188_7d4e0780-477e-4712-8831-e...   \n",
       "18            1..1926  PLAS_P:0.796|C:0.204_d2d0aa3c-b645-4487-b37a-0...   \n",
       "19            1..1926  PLAS_P:0.798|C:0.202_da1b872d-ebc8-4a39-bcce-9...   \n",
       "20            1..1926  CHROMO_P:0.484|C:0.516_5e3fdef1-2067-45a8-bd2f...   \n",
       "21          110..1719       NoClass_8e506764-b0b0-4367-8923-e10a279c4495   \n",
       "22            1..1018       NoClass_25a55b66-8c18-4835-866b-b677672bfa5c   \n",
       "23          103..1926       NoClass_518e1389-e253-4ae1-a703-5c3d892cb4f7   \n",
       "24            1..1509       NoClass_d33abdcd-c79d-445b-a13e-d6ae87487669   \n",
       "25          232..1926       NoClass_e89d278e-db18-42c8-ad9e-82f23206838f   \n",
       "\n",
       "   contig_position                                          phenotype  \\\n",
       "0       3846..4633                        Spectinomycin, Streptomycin   \n",
       "1       7256..8152                                       Streptomycin   \n",
       "2       1779..2569  Kanamycin, Amikacin, Neomycin, Butirosin, Isep...   \n",
       "3        240..1037  Kanamycin, Amikacin, Neomycin, Butirosin, Isep...   \n",
       "4           1..589                                Unknown Beta-lactam   \n",
       "5           1..589                                Unknown Beta-lactam   \n",
       "6           1..589                                         Ampicillin   \n",
       "7           1..589                                Unknown Beta-lactam   \n",
       "8           1..589                              Cefoxitin, Ampicillin   \n",
       "9           2..845                         Erythromycin, Azithromycin   \n",
       "10     9782..11003                         Erythromycin, Azithromycin   \n",
       "11      1032..1530                                         Lincomycin   \n",
       "12          3..856                         Erythromycin, Azithromycin   \n",
       "13      1787..2516  Erythromycin, Lincomycin, Clindamycin, Quinupr...   \n",
       "14       797..1439                                      Ciprofloxacin   \n",
       "15       385..1029                                      Ciprofloxacin   \n",
       "16       609..1254                                      Ciprofloxacin   \n",
       "17         1..1240             Doxycycline, Tetracycline, Minocycline   \n",
       "18     8115..10039             Doxycycline, Tetracycline, Minocycline   \n",
       "19      1017..2938             Doxycycline, Tetracycline, Minocycline   \n",
       "20      3159..5095             Doxycycline, Tetracycline, Minocycline   \n",
       "21         1..1609             Doxycycline, Tetracycline, Minocycline   \n",
       "22        15..1015                          Doxycycline, Tetracycline   \n",
       "23      2024..3848             Doxycycline, Tetracycline, Minocycline   \n",
       "24       455..1955             Doxycycline, Tetracycline, Minocycline   \n",
       "25        99..1788             Doxycycline, Tetracycline, Minocycline   \n",
       "\n",
       "   accession_number  start_position  stop_position  \n",
       "0          JQ480156            3846           4633  \n",
       "1          AF330699            7256           8152  \n",
       "2            M26832            1779           2569  \n",
       "3            M26832             240           1037  \n",
       "4          AY769934               1            589  \n",
       "5          AY769933               1            589  \n",
       "6          AF472622               1            589  \n",
       "7          AF504914               1            589  \n",
       "8            U38243               1            589  \n",
       "9          AF227520               2            845  \n",
       "10         AF227520            9782          11003  \n",
       "11         AY928180            1032           1530  \n",
       "12         AF227520               3            856  \n",
       "13           U86375            1787           2516  \n",
       "14         KX130945             797           1439  \n",
       "15         KX130945             385           1029  \n",
       "16         KX130945             609           1254  \n",
       "17           L33696               1           1240  \n",
       "18           L33696            8115          10039  \n",
       "19           L33696            1017           2938  \n",
       "20           L33696            3159           5095  \n",
       "21           Z21523               1           1609  \n",
       "22         FJ158002              15           1015  \n",
       "23           L33696            2024           3848  \n",
       "24         FN594949             455           1955  \n",
       "25           L33696              99           1788  "
      ],
      "text/html": [
       "<div>\n",
       "<style scoped>\n",
       "    .dataframe tbody tr th:only-of-type {\n",
       "        vertical-align: middle;\n",
       "    }\n",
       "\n",
       "    .dataframe tbody tr th {\n",
       "        vertical-align: top;\n",
       "    }\n",
       "\n",
       "    .dataframe thead th {\n",
       "        text-align: right;\n",
       "    }\n",
       "</style>\n",
       "<table border=\"1\" class=\"dataframe\">\n",
       "  <thead>\n",
       "    <tr style=\"text-align: right;\">\n",
       "      <th></th>\n",
       "      <th>resistance_gene</th>\n",
       "      <th>identity</th>\n",
       "      <th>alignment_vs_gene_length</th>\n",
       "      <th>coverage</th>\n",
       "      <th>reference_position</th>\n",
       "      <th>contig_id</th>\n",
       "      <th>contig_position</th>\n",
       "      <th>phenotype</th>\n",
       "      <th>accession_number</th>\n",
       "      <th>start_position</th>\n",
       "      <th>stop_position</th>\n",
       "    </tr>\n",
       "  </thead>\n",
       "  <tbody>\n",
       "    <tr>\n",
       "      <th>0</th>\n",
       "      <td>aadA1</td>\n",
       "      <td>98.23</td>\n",
       "      <td>792/789</td>\n",
       "      <td>99.493029</td>\n",
       "      <td>1..789</td>\n",
       "      <td>PLAS_P:0.674|C:0.326_7dc2184f-d64d-406a-8889-1...</td>\n",
       "      <td>3846..4633</td>\n",
       "      <td>Spectinomycin, Streptomycin</td>\n",
       "      <td>JQ480156</td>\n",
       "      <td>3846</td>\n",
       "      <td>4633</td>\n",
       "    </tr>\n",
       "    <tr>\n",
       "      <th>1</th>\n",
       "      <td>ant(6)-Ia</td>\n",
       "      <td>97.15</td>\n",
       "      <td>911/909</td>\n",
       "      <td>98.459846</td>\n",
       "      <td>1..909</td>\n",
       "      <td>PLAS_P:0.546|C:0.454_cd01ab1e-6bd0-4f3c-826e-3...</td>\n",
       "      <td>7256..8152</td>\n",
       "      <td>Streptomycin</td>\n",
       "      <td>AF330699</td>\n",
       "      <td>7256</td>\n",
       "      <td>8152</td>\n",
       "    </tr>\n",
       "    <tr>\n",
       "      <th>2</th>\n",
       "      <td>aph(3')-III</td>\n",
       "      <td>97.24</td>\n",
       "      <td>798/795</td>\n",
       "      <td>99.119497</td>\n",
       "      <td>1..795</td>\n",
       "      <td>PLAS_P:0.546|C:0.454_cd01ab1e-6bd0-4f3c-826e-3...</td>\n",
       "      <td>1779..2569</td>\n",
       "      <td>Kanamycin, Amikacin, Neomycin, Butirosin, Isep...</td>\n",
       "      <td>M26832</td>\n",
       "      <td>1779</td>\n",
       "      <td>2569</td>\n",
       "    </tr>\n",
       "    <tr>\n",
       "      <th>3</th>\n",
       "      <td>aph(3')-III</td>\n",
       "      <td>98.62</td>\n",
       "      <td>799/795</td>\n",
       "      <td>99.874214</td>\n",
       "      <td>1..795</td>\n",
       "      <td>CHROMO_P:0.156|C:0.844_0b206394-1c46-4fd8-9150...</td>\n",
       "      <td>240..1037</td>\n",
       "      <td>Kanamycin, Amikacin, Neomycin, Butirosin, Isep...</td>\n",
       "      <td>M26832</td>\n",
       "      <td>240</td>\n",
       "      <td>1037</td>\n",
       "    </tr>\n",
       "    <tr>\n",
       "      <th>4</th>\n",
       "      <td>cfxA5</td>\n",
       "      <td>86.78</td>\n",
       "      <td>590/966</td>\n",
       "      <td>60.869565</td>\n",
       "      <td>365..953</td>\n",
       "      <td>PLAS_P:0.842|C:0.158_781834e3-5c9e-4188-8760-4...</td>\n",
       "      <td>1..589</td>\n",
       "      <td>Unknown Beta-lactam</td>\n",
       "      <td>AY769934</td>\n",
       "      <td>1</td>\n",
       "      <td>589</td>\n",
       "    </tr>\n",
       "    <tr>\n",
       "      <th>5</th>\n",
       "      <td>cfxA4</td>\n",
       "      <td>86.78</td>\n",
       "      <td>590/966</td>\n",
       "      <td>60.869565</td>\n",
       "      <td>365..953</td>\n",
       "      <td>PLAS_P:0.842|C:0.158_781834e3-5c9e-4188-8760-4...</td>\n",
       "      <td>1..589</td>\n",
       "      <td>Unknown Beta-lactam</td>\n",
       "      <td>AY769933</td>\n",
       "      <td>1</td>\n",
       "      <td>589</td>\n",
       "    </tr>\n",
       "    <tr>\n",
       "      <th>6</th>\n",
       "      <td>cfxA3</td>\n",
       "      <td>86.78</td>\n",
       "      <td>590/966</td>\n",
       "      <td>60.869565</td>\n",
       "      <td>365..953</td>\n",
       "      <td>PLAS_P:0.842|C:0.158_781834e3-5c9e-4188-8760-4...</td>\n",
       "      <td>1..589</td>\n",
       "      <td>Ampicillin</td>\n",
       "      <td>AF472622</td>\n",
       "      <td>1</td>\n",
       "      <td>589</td>\n",
       "    </tr>\n",
       "    <tr>\n",
       "      <th>7</th>\n",
       "      <td>cfxA2</td>\n",
       "      <td>86.78</td>\n",
       "      <td>590/966</td>\n",
       "      <td>60.869565</td>\n",
       "      <td>365..953</td>\n",
       "      <td>PLAS_P:0.842|C:0.158_781834e3-5c9e-4188-8760-4...</td>\n",
       "      <td>1..589</td>\n",
       "      <td>Unknown Beta-lactam</td>\n",
       "      <td>AF504914</td>\n",
       "      <td>1</td>\n",
       "      <td>589</td>\n",
       "    </tr>\n",
       "    <tr>\n",
       "      <th>8</th>\n",
       "      <td>cfxA</td>\n",
       "      <td>86.78</td>\n",
       "      <td>590/966</td>\n",
       "      <td>60.869565</td>\n",
       "      <td>365..953</td>\n",
       "      <td>PLAS_P:0.842|C:0.158_781834e3-5c9e-4188-8760-4...</td>\n",
       "      <td>1..589</td>\n",
       "      <td>Cefoxitin, Ampicillin</td>\n",
       "      <td>U38243</td>\n",
       "      <td>1</td>\n",
       "      <td>589</td>\n",
       "    </tr>\n",
       "    <tr>\n",
       "      <th>9</th>\n",
       "      <td>mef(A)</td>\n",
       "      <td>92.51</td>\n",
       "      <td>854/1218</td>\n",
       "      <td>68.801314</td>\n",
       "      <td>371..1218</td>\n",
       "      <td>PLAS_P:0.542|C:0.458_3e3ebdde-6338-4ad9-b84d-0...</td>\n",
       "      <td>2..845</td>\n",
       "      <td>Erythromycin, Azithromycin</td>\n",
       "      <td>AF227520</td>\n",
       "      <td>2</td>\n",
       "      <td>845</td>\n",
       "    </tr>\n",
       "    <tr>\n",
       "      <th>10</th>\n",
       "      <td>mef(A)</td>\n",
       "      <td>93.63</td>\n",
       "      <td>1224/1218</td>\n",
       "      <td>99.835796</td>\n",
       "      <td>1..1218</td>\n",
       "      <td>PLAS_P:0.546|C:0.454_cd01ab1e-6bd0-4f3c-826e-3...</td>\n",
       "      <td>9782..11003</td>\n",
       "      <td>Erythromycin, Azithromycin</td>\n",
       "      <td>AF227520</td>\n",
       "      <td>9782</td>\n",
       "      <td>11003</td>\n",
       "    </tr>\n",
       "    <tr>\n",
       "      <th>11</th>\n",
       "      <td>lnu(C)</td>\n",
       "      <td>91.38</td>\n",
       "      <td>499/495</td>\n",
       "      <td>100.000000</td>\n",
       "      <td>1..495</td>\n",
       "      <td>PLAS_P:0.802|C:0.198_e8215b15-5540-4e50-9297-0...</td>\n",
       "      <td>1032..1530</td>\n",
       "      <td>Lincomycin</td>\n",
       "      <td>AY928180</td>\n",
       "      <td>1032</td>\n",
       "      <td>1530</td>\n",
       "    </tr>\n",
       "    <tr>\n",
       "      <th>12</th>\n",
       "      <td>mef(A)</td>\n",
       "      <td>94.06</td>\n",
       "      <td>859/1218</td>\n",
       "      <td>70.032841</td>\n",
       "      <td>361..1218</td>\n",
       "      <td>PLAS_P:0.828|C:0.172_fb71f21b-6c9c-4b15-bfb3-e...</td>\n",
       "      <td>3..856</td>\n",
       "      <td>Erythromycin, Azithromycin</td>\n",
       "      <td>AF227520</td>\n",
       "      <td>3</td>\n",
       "      <td>856</td>\n",
       "    </tr>\n",
       "    <tr>\n",
       "      <th>13</th>\n",
       "      <td>erm(B)</td>\n",
       "      <td>96.21</td>\n",
       "      <td>739/738</td>\n",
       "      <td>98.373984</td>\n",
       "      <td>4..738</td>\n",
       "      <td>CHROMO_P:0.156|C:0.844_0b206394-1c46-4fd8-9150...</td>\n",
       "      <td>1787..2516</td>\n",
       "      <td>Erythromycin, Lincomycin, Clindamycin, Quinupr...</td>\n",
       "      <td>U86375</td>\n",
       "      <td>1787</td>\n",
       "      <td>2516</td>\n",
       "    </tr>\n",
       "    <tr>\n",
       "      <th>14</th>\n",
       "      <td>qnrD3</td>\n",
       "      <td>98.45</td>\n",
       "      <td>646/645</td>\n",
       "      <td>99.534884</td>\n",
       "      <td>1..645</td>\n",
       "      <td>PLAS_P:0.858|C:0.142_04dce0c9-6a26-44b9-a50b-9...</td>\n",
       "      <td>797..1439</td>\n",
       "      <td>Ciprofloxacin</td>\n",
       "      <td>KX130945</td>\n",
       "      <td>797</td>\n",
       "      <td>1439</td>\n",
       "    </tr>\n",
       "    <tr>\n",
       "      <th>15</th>\n",
       "      <td>qnrD3</td>\n",
       "      <td>99.23</td>\n",
       "      <td>646/645</td>\n",
       "      <td>99.844961</td>\n",
       "      <td>1..645</td>\n",
       "      <td>PLAS_P:0.664|C:0.336_94c43e8d-e23e-4f45-8f7c-a...</td>\n",
       "      <td>385..1029</td>\n",
       "      <td>Ciprofloxacin</td>\n",
       "      <td>KX130945</td>\n",
       "      <td>385</td>\n",
       "      <td>1029</td>\n",
       "    </tr>\n",
       "    <tr>\n",
       "      <th>16</th>\n",
       "      <td>qnrD3</td>\n",
       "      <td>98.30</td>\n",
       "      <td>647/645</td>\n",
       "      <td>99.844961</td>\n",
       "      <td>1..645</td>\n",
       "      <td>PLAS_P:0.66|C:0.34_fc2fb35b-1805-46f1-86cb-474...</td>\n",
       "      <td>609..1254</td>\n",
       "      <td>Ciprofloxacin</td>\n",
       "      <td>KX130945</td>\n",
       "      <td>609</td>\n",
       "      <td>1254</td>\n",
       "    </tr>\n",
       "    <tr>\n",
       "      <th>17</th>\n",
       "      <td>tet(Q)</td>\n",
       "      <td>97.76</td>\n",
       "      <td>1251/1926</td>\n",
       "      <td>64.278297</td>\n",
       "      <td>1..1249</td>\n",
       "      <td>PLAS_P:0.812|C:0.188_7d4e0780-477e-4712-8831-e...</td>\n",
       "      <td>1..1240</td>\n",
       "      <td>Doxycycline, Tetracycline, Minocycline</td>\n",
       "      <td>L33696</td>\n",
       "      <td>1</td>\n",
       "      <td>1240</td>\n",
       "    </tr>\n",
       "    <tr>\n",
       "      <th>18</th>\n",
       "      <td>tet(Q)</td>\n",
       "      <td>95.98</td>\n",
       "      <td>1942/1926</td>\n",
       "      <td>99.117342</td>\n",
       "      <td>1..1926</td>\n",
       "      <td>PLAS_P:0.796|C:0.204_d2d0aa3c-b645-4487-b37a-0...</td>\n",
       "      <td>8115..10039</td>\n",
       "      <td>Doxycycline, Tetracycline, Minocycline</td>\n",
       "      <td>L33696</td>\n",
       "      <td>8115</td>\n",
       "      <td>10039</td>\n",
       "    </tr>\n",
       "    <tr>\n",
       "      <th>19</th>\n",
       "      <td>tet(Q)</td>\n",
       "      <td>97.62</td>\n",
       "      <td>1930/1926</td>\n",
       "      <td>99.584631</td>\n",
       "      <td>1..1926</td>\n",
       "      <td>PLAS_P:0.798|C:0.202_da1b872d-ebc8-4a39-bcce-9...</td>\n",
       "      <td>1017..2938</td>\n",
       "      <td>Doxycycline, Tetracycline, Minocycline</td>\n",
       "      <td>L33696</td>\n",
       "      <td>1017</td>\n",
       "      <td>2938</td>\n",
       "    </tr>\n",
       "    <tr>\n",
       "      <th>20</th>\n",
       "      <td>tet(Q)</td>\n",
       "      <td>97.17</td>\n",
       "      <td>1941/1926</td>\n",
       "      <td>99.792316</td>\n",
       "      <td>1..1926</td>\n",
       "      <td>CHROMO_P:0.484|C:0.516_5e3fdef1-2067-45a8-bd2f...</td>\n",
       "      <td>3159..5095</td>\n",
       "      <td>Doxycycline, Tetracycline, Minocycline</td>\n",
       "      <td>L33696</td>\n",
       "      <td>3159</td>\n",
       "      <td>5095</td>\n",
       "    </tr>\n",
       "    <tr>\n",
       "      <th>21</th>\n",
       "      <td>tet(Q)</td>\n",
       "      <td>97.41</td>\n",
       "      <td>1622/1926</td>\n",
       "      <td>82.917965</td>\n",
       "      <td>110..1719</td>\n",
       "      <td>NoClass_8e506764-b0b0-4367-8923-e10a279c4495</td>\n",
       "      <td>1..1609</td>\n",
       "      <td>Doxycycline, Tetracycline, Minocycline</td>\n",
       "      <td>Z21523</td>\n",
       "      <td>1</td>\n",
       "      <td>1609</td>\n",
       "    </tr>\n",
       "    <tr>\n",
       "      <th>22</th>\n",
       "      <td>tet(40)</td>\n",
       "      <td>96.86</td>\n",
       "      <td>1019/1221</td>\n",
       "      <td>81.900082</td>\n",
       "      <td>1..1018</td>\n",
       "      <td>NoClass_25a55b66-8c18-4835-866b-b677672bfa5c</td>\n",
       "      <td>15..1015</td>\n",
       "      <td>Doxycycline, Tetracycline</td>\n",
       "      <td>FJ158002</td>\n",
       "      <td>15</td>\n",
       "      <td>1015</td>\n",
       "    </tr>\n",
       "    <tr>\n",
       "      <th>23</th>\n",
       "      <td>tet(Q)</td>\n",
       "      <td>98.03</td>\n",
       "      <td>1831/1926</td>\n",
       "      <td>94.392523</td>\n",
       "      <td>103..1926</td>\n",
       "      <td>NoClass_518e1389-e253-4ae1-a703-5c3d892cb4f7</td>\n",
       "      <td>2024..3848</td>\n",
       "      <td>Doxycycline, Tetracycline, Minocycline</td>\n",
       "      <td>L33696</td>\n",
       "      <td>2024</td>\n",
       "      <td>3848</td>\n",
       "    </tr>\n",
       "    <tr>\n",
       "      <th>24</th>\n",
       "      <td>tet(44)</td>\n",
       "      <td>96.83</td>\n",
       "      <td>1516/1923</td>\n",
       "      <td>77.691108</td>\n",
       "      <td>1..1509</td>\n",
       "      <td>NoClass_d33abdcd-c79d-445b-a13e-d6ae87487669</td>\n",
       "      <td>455..1955</td>\n",
       "      <td>Doxycycline, Tetracycline, Minocycline</td>\n",
       "      <td>FN594949</td>\n",
       "      <td>455</td>\n",
       "      <td>1955</td>\n",
       "    </tr>\n",
       "    <tr>\n",
       "      <th>25</th>\n",
       "      <td>tet(Q)</td>\n",
       "      <td>97.94</td>\n",
       "      <td>1703/1926</td>\n",
       "      <td>87.331256</td>\n",
       "      <td>232..1926</td>\n",
       "      <td>NoClass_e89d278e-db18-42c8-ad9e-82f23206838f</td>\n",
       "      <td>99..1788</td>\n",
       "      <td>Doxycycline, Tetracycline, Minocycline</td>\n",
       "      <td>L33696</td>\n",
       "      <td>99</td>\n",
       "      <td>1788</td>\n",
       "    </tr>\n",
       "  </tbody>\n",
       "</table>\n",
       "</div>"
      ]
     },
     "execution_count": 132,
     "metadata": {},
     "output_type": "execute_result"
    }
   ],
   "execution_count": 132
  },
  {
   "metadata": {
    "ExecuteTime": {
     "end_time": "2025-04-17T01:26:10.871451Z",
     "start_time": "2025-04-17T01:26:10.868779Z"
    }
   },
   "cell_type": "code",
   "source": [
    "#Getting drug class info\n",
    "for pheno in testing_hits_df['phenotype']:\n",
    "    pheno_ls = pheno.split(\",\")\n",
    "    pheno_ls = [pheno.strip() for pheno in pheno_ls]\n",
    "    print(pheno_ls)"
   ],
   "id": "5c4c0269ae9e793b",
   "outputs": [
    {
     "name": "stdout",
     "output_type": "stream",
     "text": [
      "['Spectinomycin', 'Streptomycin']\n",
      "['Streptomycin']\n",
      "['Kanamycin', 'Amikacin', 'Neomycin', 'Butirosin', 'Isepamicin', 'Lividomycin', 'Paromomycin', 'Ribostamycin']\n",
      "['Kanamycin', 'Amikacin', 'Neomycin', 'Butirosin', 'Isepamicin', 'Lividomycin', 'Paromomycin', 'Ribostamycin']\n",
      "['Unknown Beta-lactam']\n",
      "['Unknown Beta-lactam']\n",
      "['Ampicillin']\n",
      "['Unknown Beta-lactam']\n",
      "['Cefoxitin', 'Ampicillin']\n",
      "['Erythromycin', 'Azithromycin']\n",
      "['Erythromycin', 'Azithromycin']\n",
      "['Lincomycin']\n",
      "['Erythromycin', 'Azithromycin']\n",
      "['Erythromycin', 'Lincomycin', 'Clindamycin', 'Quinupristin', 'Pristinamycin IA', 'Virginiamycin S']\n",
      "['Ciprofloxacin']\n",
      "['Ciprofloxacin']\n",
      "['Ciprofloxacin']\n",
      "['Doxycycline', 'Tetracycline', 'Minocycline']\n",
      "['Doxycycline', 'Tetracycline', 'Minocycline']\n",
      "['Doxycycline', 'Tetracycline', 'Minocycline']\n",
      "['Doxycycline', 'Tetracycline', 'Minocycline']\n",
      "['Doxycycline', 'Tetracycline', 'Minocycline']\n",
      "['Doxycycline', 'Tetracycline']\n",
      "['Doxycycline', 'Tetracycline', 'Minocycline']\n",
      "['Doxycycline', 'Tetracycline', 'Minocycline']\n",
      "['Doxycycline', 'Tetracycline', 'Minocycline']\n"
     ]
    }
   ],
   "execution_count": 136
  },
  {
   "metadata": {},
   "cell_type": "code",
   "outputs": [],
   "execution_count": null,
   "source": "",
   "id": "6dd38e0f7b95d1d9"
  },
  {
   "metadata": {
    "ExecuteTime": {
     "end_time": "2025-04-17T15:12:30.775794Z",
     "start_time": "2025-04-17T15:12:30.436846Z"
    }
   },
   "cell_type": "code",
   "source": [
    "from eralchemy import render_er\n",
    "\n",
    "# Define the path to your SQLite database\n",
    "db_path = 'sqlite:///Testing.db'\n",
    "\n",
    "# Generate the ERD and save it as a .png image\n",
    "output_path = 'Testing_DB_Outline.png'\n",
    "\n",
    "# This function generates the ERD and saves it as a PNG file\n",
    "render_er(db_path, output_path)\n",
    "\n",
    "print(f\"ERD has been generated and saved to {output_path}\")"
   ],
   "id": "7166799f130dbfd5",
   "outputs": [
    {
     "name": "stdout",
     "output_type": "stream",
     "text": [
      "ERD has been generated and saved to Testing_DB_Outline.png\n"
     ]
    }
   ],
   "execution_count": 137
  }
 ],
 "metadata": {
  "kernelspec": {
   "display_name": "Python 3",
   "language": "python",
   "name": "python3"
  },
  "language_info": {
   "codemirror_mode": {
    "name": "ipython",
    "version": 2
   },
   "file_extension": ".py",
   "mimetype": "text/x-python",
   "name": "python",
   "nbconvert_exporter": "python",
   "pygments_lexer": "ipython2",
   "version": "2.7.6"
  }
 },
 "nbformat": 4,
 "nbformat_minor": 5
}
