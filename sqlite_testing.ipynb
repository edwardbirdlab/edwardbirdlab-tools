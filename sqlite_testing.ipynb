{
 "cells": [
  {
   "cell_type": "code",
   "id": "initial_id",
   "metadata": {
    "collapsed": true,
    "ExecuteTime": {
     "end_time": "2025-04-15T18:28:57.775281Z",
     "start_time": "2025-04-15T18:28:57.468304Z"
    }
   },
   "source": [
    "import sqlite3\n",
    "import pandas as pd\n",
    "from Bio import SeqIO\n",
    "import os\n",
    "import random"
   ],
   "outputs": [],
   "execution_count": 1
  },
  {
   "metadata": {
    "ExecuteTime": {
     "end_time": "2025-04-15T18:28:57.782110Z",
     "start_time": "2025-04-15T18:28:57.778299Z"
    }
   },
   "cell_type": "code",
   "source": [
    "# Import Sheet\n",
    "df = pd.read_csv(\"test_data/Testing_SQLite/samplesheet_nexus.csv\")\n",
    "df.rename(columns={\"path\": \"read1\"}, inplace=True)"
   ],
   "id": "decdaab2787e8bda",
   "outputs": [],
   "execution_count": 2
  },
  {
   "metadata": {
    "ExecuteTime": {
     "end_time": "2025-04-15T18:28:57.841886Z",
     "start_time": "2025-04-15T18:28:57.837120Z"
    }
   },
   "cell_type": "code",
   "source": "df.head()",
   "id": "f547df14d95bbec0",
   "outputs": [
    {
     "data": {
      "text/plain": [
       "        sample                                              read1  \\\n",
       "0  NIFP2402605  /90daydata/nece/bird/NECE_NEXUS_2025/Data/NIFP...   \n",
       "1  NIFP2402606  /90daydata/nece/bird/NECE_NEXUS_2025/Data/NIFP...   \n",
       "2  NIFP2402607  /90daydata/nece/bird/NECE_NEXUS_2025/Data/NIFP...   \n",
       "3  NIFP2402608  /90daydata/nece/bird/NECE_NEXUS_2025/Data/NIFP...   \n",
       "4  NIFP2402609  /90daydata/nece/bird/NECE_NEXUS_2025/Data/NIFP...   \n",
       "\n",
       "                                    reference_genome sequencing_type  \n",
       "0  /90daydata/nece/bird/NECE_NEXUS_2025/Data/GCF_...    META_ONT_DNA  \n",
       "1  /90daydata/nece/bird/NECE_NEXUS_2025/Data/GCF_...    META_ONT_DNA  \n",
       "2  /90daydata/nece/bird/NECE_NEXUS_2025/Data/GCF_...    META_ONT_DNA  \n",
       "3  /90daydata/nece/bird/NECE_NEXUS_2025/Data/GCF_...    META_ONT_DNA  \n",
       "4  /90daydata/nece/bird/NECE_NEXUS_2025/Data/GCF_...    META_ONT_DNA  "
      ],
      "text/html": [
       "<div>\n",
       "<style scoped>\n",
       "    .dataframe tbody tr th:only-of-type {\n",
       "        vertical-align: middle;\n",
       "    }\n",
       "\n",
       "    .dataframe tbody tr th {\n",
       "        vertical-align: top;\n",
       "    }\n",
       "\n",
       "    .dataframe thead th {\n",
       "        text-align: right;\n",
       "    }\n",
       "</style>\n",
       "<table border=\"1\" class=\"dataframe\">\n",
       "  <thead>\n",
       "    <tr style=\"text-align: right;\">\n",
       "      <th></th>\n",
       "      <th>sample</th>\n",
       "      <th>read1</th>\n",
       "      <th>reference_genome</th>\n",
       "      <th>sequencing_type</th>\n",
       "    </tr>\n",
       "  </thead>\n",
       "  <tbody>\n",
       "    <tr>\n",
       "      <th>0</th>\n",
       "      <td>NIFP2402605</td>\n",
       "      <td>/90daydata/nece/bird/NECE_NEXUS_2025/Data/NIFP...</td>\n",
       "      <td>/90daydata/nece/bird/NECE_NEXUS_2025/Data/GCF_...</td>\n",
       "      <td>META_ONT_DNA</td>\n",
       "    </tr>\n",
       "    <tr>\n",
       "      <th>1</th>\n",
       "      <td>NIFP2402606</td>\n",
       "      <td>/90daydata/nece/bird/NECE_NEXUS_2025/Data/NIFP...</td>\n",
       "      <td>/90daydata/nece/bird/NECE_NEXUS_2025/Data/GCF_...</td>\n",
       "      <td>META_ONT_DNA</td>\n",
       "    </tr>\n",
       "    <tr>\n",
       "      <th>2</th>\n",
       "      <td>NIFP2402607</td>\n",
       "      <td>/90daydata/nece/bird/NECE_NEXUS_2025/Data/NIFP...</td>\n",
       "      <td>/90daydata/nece/bird/NECE_NEXUS_2025/Data/GCF_...</td>\n",
       "      <td>META_ONT_DNA</td>\n",
       "    </tr>\n",
       "    <tr>\n",
       "      <th>3</th>\n",
       "      <td>NIFP2402608</td>\n",
       "      <td>/90daydata/nece/bird/NECE_NEXUS_2025/Data/NIFP...</td>\n",
       "      <td>/90daydata/nece/bird/NECE_NEXUS_2025/Data/GCF_...</td>\n",
       "      <td>META_ONT_DNA</td>\n",
       "    </tr>\n",
       "    <tr>\n",
       "      <th>4</th>\n",
       "      <td>NIFP2402609</td>\n",
       "      <td>/90daydata/nece/bird/NECE_NEXUS_2025/Data/NIFP...</td>\n",
       "      <td>/90daydata/nece/bird/NECE_NEXUS_2025/Data/GCF_...</td>\n",
       "      <td>META_ONT_DNA</td>\n",
       "    </tr>\n",
       "  </tbody>\n",
       "</table>\n",
       "</div>"
      ]
     },
     "execution_count": 3,
     "metadata": {},
     "output_type": "execute_result"
    }
   ],
   "execution_count": 3
  },
  {
   "metadata": {
    "ExecuteTime": {
     "end_time": "2025-04-15T18:28:57.862313Z",
     "start_time": "2025-04-15T18:28:57.860428Z"
    }
   },
   "cell_type": "code",
   "source": [
    "# Connect to (or create) the SQLite database\n",
    "conn = sqlite3.connect(\"Testing.db\")"
   ],
   "id": "1220b507348a125c",
   "outputs": [],
   "execution_count": 4
  },
  {
   "metadata": {
    "ExecuteTime": {
     "end_time": "2025-04-15T18:28:57.887682Z",
     "start_time": "2025-04-15T18:28:57.884363Z"
    }
   },
   "cell_type": "code",
   "source": [
    "#Creating Metadata table\n",
    "conn.execute(\"\"\"\n",
    "CREATE TABLE IF NOT EXISTS metadata (\n",
    "    sample TEXT,\n",
    "    read1 TEXT,\n",
    "    read2 TEXT,\n",
    "    reference_genome TEXT,\n",
    "    sequencing_type TEXT,\n",
    "    location_name TEXT,\n",
    "    location_coordinates TEXT,\n",
    "    collection_date TEXT,\n",
    "    sequencing_data TEXT,\n",
    "    other_sample_information TEXT,\n",
    "    long_term_storage_r1 TEXT,\n",
    "    long_term_storage_r2 TEXT,\n",
    "    PRIMARY KEY (sample, sequencing_type)\n",
    ");\n",
    "\"\"\")"
   ],
   "id": "8c7a7dd1e78ab6a0",
   "outputs": [
    {
     "data": {
      "text/plain": [
       "<sqlite3.Cursor at 0x132a3c4c0>"
      ]
     },
     "execution_count": 5,
     "metadata": {},
     "output_type": "execute_result"
    }
   ],
   "execution_count": 5
  },
  {
   "metadata": {
    "ExecuteTime": {
     "end_time": "2025-04-15T18:28:57.906110Z",
     "start_time": "2025-04-15T18:28:57.902950Z"
    }
   },
   "cell_type": "code",
   "source": [
    "#Columns that could be in the metadata\n",
    "optional_fields = [\n",
    "    \"read2\",\n",
    "    \"location_name\",\n",
    "    \"location_coordinates\",\n",
    "    \"collection_date\",\n",
    "    \"sequencing_data\",\n",
    "    \"other_sample_information\",\n",
    "    \"long_term_storage_r1\",\n",
    "    \"long_term_storage_r2\"\n",
    "]\n",
    "\n",
    "#Colums that every sample should have\n",
    "required_fields = [\"sample\", \"read1\", \"reference_genome\", \"sequencing_type\"]\n",
    "\n",
    "#Check for required Colums\n",
    "for field in required_fields:\n",
    "    if field not in df.columns:\n",
    "        raise ValueError(f\"Missing required column: {field}\")\n",
    "\n",
    "# Add missing optional columns with None\n",
    "for field in optional_fields:\n",
    "    if field not in df.columns:\n",
    "        df[field] = None"
   ],
   "id": "49ce588a84a50166",
   "outputs": [],
   "execution_count": 6
  },
  {
   "metadata": {
    "ExecuteTime": {
     "end_time": "2025-04-15T18:28:57.922935Z",
     "start_time": "2025-04-15T18:28:57.919591Z"
    }
   },
   "cell_type": "code",
   "source": [
    "# Connect to database\n",
    "cursor = conn.cursor()\n",
    "# Attempt to insert each row individually and throw error if duplicate found\n",
    "try:\n",
    "    for row in df.itertuples(index=False):\n",
    "        cursor.execute(\"\"\"\n",
    "            INSERT INTO metadata (\n",
    "                sample, read1, reference_genome, sequencing_type,\n",
    "                location_name, location_coordinates,\n",
    "                collection_date, sequencing_data, other_sample_information\n",
    "            ) VALUES (?, ?, ?, ?, ?, ?, ?, ?, ?)\n",
    "        \"\"\", (\n",
    "            row.sample,\n",
    "            row.read1,\n",
    "            row.reference_genome,\n",
    "            row.sequencing_type,\n",
    "            row.location_name,\n",
    "            row.location_coordinates,\n",
    "            row.collection_date,\n",
    "            row.sequencing_data,\n",
    "            row.other_sample_information\n",
    "        ))\n",
    "    conn.commit()\n",
    "except sqlite3.IntegrityError as e:\n",
    "    raise RuntimeError(f\"❌ Duplicate entry detected: {e}\")\n",
    "finally:\n",
    "    conn.close()"
   ],
   "id": "30f159d46b3350e9",
   "outputs": [],
   "execution_count": 7
  },
  {
   "metadata": {
    "ExecuteTime": {
     "end_time": "2025-04-15T18:28:57.926688Z",
     "start_time": "2025-04-15T18:28:57.925191Z"
    }
   },
   "cell_type": "code",
   "source": [
    "# Connect to your SQLite database\n",
    "conn = sqlite3.connect(\"Testing.db\")\n",
    "cursor = conn.cursor()"
   ],
   "id": "94929facdc11e7a9",
   "outputs": [],
   "execution_count": 8
  },
  {
   "metadata": {
    "ExecuteTime": {
     "end_time": "2025-04-15T18:28:57.933403Z",
     "start_time": "2025-04-15T18:28:57.931315Z"
    }
   },
   "cell_type": "code",
   "source": [
    "# Query all unique samples\n",
    "cursor.execute(\"SELECT DISTINCT sample FROM metadata;\")\n",
    "rows = cursor.fetchall()\n",
    "\n",
    "# Print the sample names\n",
    "for row in rows:\n",
    "    print(row[0])"
   ],
   "id": "46100f0bded155f7",
   "outputs": [
    {
     "name": "stdout",
     "output_type": "stream",
     "text": [
      "NIFP2402605\n",
      "NIFP2402606\n",
      "NIFP2402607\n",
      "NIFP2402608\n",
      "NIFP2402609\n",
      "NIFP2402610\n",
      "NIFP2402611\n",
      "NIFP2402612\n"
     ]
    }
   ],
   "execution_count": 9
  },
  {
   "metadata": {
    "ExecuteTime": {
     "end_time": "2025-04-15T18:28:57.942466Z",
     "start_time": "2025-04-15T18:28:57.941009Z"
    }
   },
   "cell_type": "code",
   "source": [
    "# Close the connection\n",
    "conn.close()"
   ],
   "id": "f232f0202458d93f",
   "outputs": [],
   "execution_count": 10
  },
  {
   "metadata": {
    "ExecuteTime": {
     "end_time": "2025-04-15T18:28:57.948723Z",
     "start_time": "2025-04-15T18:28:57.947385Z"
    }
   },
   "cell_type": "code",
   "source": [
    "fasta_folder = \"/Users/edwardbird/Documents/GitHub/edwardbirdlab-tools/test_data/Testing_SQLite\"\n",
    "db_path = \"Testing.db\""
   ],
   "id": "618198570c2d9549",
   "outputs": [],
   "execution_count": 11
  },
  {
   "metadata": {
    "ExecuteTime": {
     "end_time": "2025-04-15T18:28:57.955709Z",
     "start_time": "2025-04-15T18:28:57.953521Z"
    }
   },
   "cell_type": "code",
   "source": [
    "# Connect to database\n",
    "conn = sqlite3.connect(db_path)\n",
    "cursor = conn.cursor()"
   ],
   "id": "969669e4b0045cff",
   "outputs": [],
   "execution_count": 12
  },
  {
   "metadata": {
    "ExecuteTime": {
     "end_time": "2025-04-15T18:28:57.968630Z",
     "start_time": "2025-04-15T18:28:57.965513Z"
    }
   },
   "cell_type": "code",
   "source": [
    "#aking a new table for the contigs\n",
    "cursor.execute(\"\"\"\n",
    "CREATE TABLE IF NOT EXISTS contigs (\n",
    "    sample TEXT,\n",
    "    sequencing_type TEXT,\n",
    "    contig_id TEXT,\n",
    "    sequence TEXT,\n",
    "    PRIMARY KEY (sample, sequencing_type, contig_id),\n",
    "    FOREIGN KEY (sample, sequencing_type) REFERENCES metadata(sample, sequencing_type)\n",
    ");\n",
    "\"\"\")"
   ],
   "id": "5d029fd66d4a3974",
   "outputs": [
    {
     "data": {
      "text/plain": [
       "<sqlite3.Cursor at 0x132c3d240>"
      ]
     },
     "execution_count": 13,
     "metadata": {},
     "output_type": "execute_result"
    }
   ],
   "execution_count": 13
  },
  {
   "metadata": {
    "ExecuteTime": {
     "end_time": "2025-04-15T18:28:57.979749Z",
     "start_time": "2025-04-15T18:28:57.977886Z"
    }
   },
   "cell_type": "code",
   "source": [
    "# Making a function to get the sequencing type from the metadata we imported already\n",
    "def get_sequencing_type(sample_name):\n",
    "    result = cursor.execute(\"\"\"\n",
    "        SELECT sequencing_type FROM metadata\n",
    "        WHERE sample = ?\n",
    "    \"\"\", (sample_name,)).fetchall()\n",
    "\n",
    "    if len(result) == 1:\n",
    "        return result[0][0]\n",
    "    elif len(result) > 1:\n",
    "        raise ValueError(f\"Multiple sequencing types found for sample {sample_name}\")\n",
    "    else:\n",
    "        raise ValueError(f\"No metadata entry found for sample {sample_name}\")"
   ],
   "id": "16f5cc3ecdb1553a",
   "outputs": [],
   "execution_count": 14
  },
  {
   "metadata": {
    "ExecuteTime": {
     "end_time": "2025-04-15T18:28:59.629384Z",
     "start_time": "2025-04-15T18:28:58.006206Z"
    }
   },
   "cell_type": "code",
   "source": [
    "# Go though fasta files and import them\n",
    "for fname in os.listdir(fasta_folder):\n",
    "    if fname.endswith(\".fasta\") or fname.endswith(\".fa\"):\n",
    "        sample = os.path.splitext(fname)[0].split(\"_\")[0]\n",
    "        try:\n",
    "            sequencing_type = get_sequencing_type(sample)\n",
    "        except ValueError as e:\n",
    "            print(f\"Skipping {fname}: {e}\")\n",
    "            continue\n",
    "\n",
    "        fasta_path = os.path.join(fasta_folder, fname)\n",
    "        # Counter for inserted sequences\n",
    "        inserted_count = 0\n",
    "\n",
    "        for record in SeqIO.parse(fasta_path, \"fasta\"):\n",
    "            contig_id = record.id\n",
    "            sequence = str(record.seq)\n",
    "\n",
    "            try:\n",
    "                cursor.execute(\"\"\"\n",
    "                    INSERT INTO contigs (sample, sequencing_type, contig_id, sequence)\n",
    "                    VALUES (?, ?, ?, ?)\n",
    "                \"\"\", (sample, sequencing_type, contig_id, sequence))\n",
    "                inserted_count += 1\n",
    "            except sqlite3.IntegrityError:\n",
    "                print(f\"Duplicate entry skipped: {sample}, {sequencing_type}, {contig_id}\")\n",
    "\n",
    "        # Print summary for this sample\n",
    "        print(f\"✅ Added {inserted_count} sequences for sample '{sample}' (type: {sequencing_type})\")"
   ],
   "id": "bb90d889d9f531f1",
   "outputs": [
    {
     "name": "stdout",
     "output_type": "stream",
     "text": [
      "✅ Added 19744 sequences for sample 'NIFP2402609' (type: META_ONT_DNA)\n",
      "✅ Added 14230 sequences for sample 'NIFP2402606' (type: META_ONT_DNA)\n",
      "✅ Added 21851 sequences for sample 'NIFP2402607' (type: META_ONT_DNA)\n",
      "✅ Added 60455 sequences for sample 'NIFP2402612' (type: META_ONT_DNA)\n",
      "✅ Added 71171 sequences for sample 'NIFP2402608' (type: META_ONT_DNA)\n",
      "✅ Added 45472 sequences for sample 'NIFP2402605' (type: META_ONT_DNA)\n",
      "✅ Added 22078 sequences for sample 'NIFP2402610' (type: META_ONT_DNA)\n",
      "✅ Added 31189 sequences for sample 'NIFP2402611' (type: META_ONT_DNA)\n"
     ]
    }
   ],
   "execution_count": 15
  },
  {
   "metadata": {
    "ExecuteTime": {
     "end_time": "2025-04-15T18:28:59.778183Z",
     "start_time": "2025-04-15T18:28:59.631824Z"
    }
   },
   "cell_type": "code",
   "source": [
    "conn.commit()\n",
    "conn.close()"
   ],
   "id": "e67f139413871d62",
   "outputs": [],
   "execution_count": 16
  },
  {
   "metadata": {
    "ExecuteTime": {
     "end_time": "2025-04-15T18:28:59.808588Z",
     "start_time": "2025-04-15T18:28:59.783575Z"
    }
   },
   "cell_type": "code",
   "source": [
    "# Testing out grabing a random contig\n",
    "# Connect to the database\n",
    "conn = sqlite3.connect(\"Testing.db\", timeout=10)\n",
    "cursor = conn.cursor()\n",
    "\n",
    "# Query to get all contig ids for the sample 'NIFP2402606'\n",
    "cursor.execute(\"\"\"\n",
    "    SELECT contig_id, sequence FROM contigs\n",
    "    WHERE sample = 'NIFP2402606';\n",
    "\"\"\")\n",
    "\n",
    "# Fetch all results\n",
    "contigs = cursor.fetchall()\n",
    "\n",
    "# If there are contigs, select a random one\n",
    "if contigs:\n",
    "    random_contig = random.choice(contigs)\n",
    "    contig_id, sequence = random_contig\n",
    "    print(f\"Random contig ID: {contig_id}\")\n",
    "    print(f\"Sequence: {sequence}\")\n",
    "else:\n",
    "    print(\"No contigs found for sample NIFP2402606\")\n",
    "\n",
    "# Close the connection\n",
    "conn.close()"
   ],
   "id": "368ffc5cdfbc73d0",
   "outputs": [
    {
     "name": "stdout",
     "output_type": "stream",
     "text": [
      "Random contig ID: NoClass_5c2f68dc-c8ac-433e-8883-054337bb7960\n",
      "Sequence: GGTATTCAACAGTAGGCCCCGCTCGACTGTAGCCTTAGCTTACTTGTTTTTGTAATACTTTCAATTTTTTAAATTTCCCCCGTAAAATTTCTTTGATCTCCAAGCAAATTGTGGTTTCTTTCAAATATTTTTCGAAAGGTGTAGCAGCTCACAAATATAAATATCATTCAAAAGGTGTTTTACATAAATGTTTGTTTTTCTAAGGATTTTCCGGCACATATAAATCTTATAAGAATATATTTTCCAGACTTTTAAATGATCTTTCCATACAAAAGTCATGGTACTGTTAAACATTTTTTTAAAGGTCTTTGTTTTTCTTTTTTTAGAAAATCTTTGGAATATGAACGCGATTTTTTCCGTATTCTTTAATTTTTTTTTTTTTCAACGAAATCCTAGCAGAAAATCGTGGATTTTGTAAAAAAACGTTTAAAAGTCTTGGATATTCCTAAAACATTCTATACACTTTAAGGGATCATACTCTCACTCAAGGATATTCTTGATTGAAAAATCTTGGTATTCTTGACAAAAATACTTTTTCAATCTTATTTTTTATAAATAAAATAGTGGTGGTGAACATTCACTGAAGGGGTTTTTTATTGAAAAGTGAGATTTATTTTTCTTAAAATTTTCCCACACATAAATATGTATTATACCACTGTACAAATTTGAACGCATCTTATTGTTCCCTAGCCGAAGCATATA\n"
     ]
    }
   ],
   "execution_count": 17
  },
  {
   "metadata": {
    "ExecuteTime": {
     "end_time": "2025-04-15T18:28:59.815429Z",
     "start_time": "2025-04-15T18:28:59.814159Z"
    }
   },
   "cell_type": "code",
   "source": "",
   "id": "fa748891838451ae",
   "outputs": [],
   "execution_count": null
  }
 ],
 "metadata": {
  "kernelspec": {
   "display_name": "Python 3",
   "language": "python",
   "name": "python3"
  },
  "language_info": {
   "codemirror_mode": {
    "name": "ipython",
    "version": 2
   },
   "file_extension": ".py",
   "mimetype": "text/x-python",
   "name": "python",
   "nbconvert_exporter": "python",
   "pygments_lexer": "ipython2",
   "version": "2.7.6"
  }
 },
 "nbformat": 4,
 "nbformat_minor": 5
}
